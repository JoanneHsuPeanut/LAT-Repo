{
 "cells": [
  {
   "attachments": {},
   "cell_type": "markdown",
   "metadata": {},
   "source": [
    "### 準備環境  \n",
    "\n",
    "pip uninstall numpy -y  \n",
    "pip uninstall pandas -y  \n",
    "pip install numpy  \n",
    "pip install pandas  "
   ]
  },
  {
   "cell_type": "code",
   "execution_count": 1036,
   "metadata": {},
   "outputs": [],
   "source": [
    "import pandas as pd"
   ]
  },
  {
   "attachments": {},
   "cell_type": "markdown",
   "metadata": {},
   "source": [
    "### 預覽資料"
   ]
  },
  {
   "cell_type": "code",
   "execution_count": 1037,
   "metadata": {},
   "outputs": [
    {
     "data": {
      "text/html": [
       "<div>\n",
       "<style scoped>\n",
       "    .dataframe tbody tr th:only-of-type {\n",
       "        vertical-align: middle;\n",
       "    }\n",
       "\n",
       "    .dataframe tbody tr th {\n",
       "        vertical-align: top;\n",
       "    }\n",
       "\n",
       "    .dataframe thead th {\n",
       "        text-align: right;\n",
       "    }\n",
       "</style>\n",
       "<table border=\"1\" class=\"dataframe\">\n",
       "  <thead>\n",
       "    <tr style=\"text-align: right;\">\n",
       "      <th></th>\n",
       "      <th>LOCATION</th>\n",
       "      <th>INDICATOR</th>\n",
       "      <th>SUBJECT</th>\n",
       "      <th>MEASURE</th>\n",
       "      <th>FREQUENCY</th>\n",
       "      <th>TIME</th>\n",
       "      <th>Value</th>\n",
       "      <th>Flag Codes</th>\n",
       "    </tr>\n",
       "  </thead>\n",
       "  <tbody>\n",
       "    <tr>\n",
       "      <th>0</th>\n",
       "      <td>AUS</td>\n",
       "      <td>PISASCIENCE</td>\n",
       "      <td>BOY</td>\n",
       "      <td>MEANSCORE</td>\n",
       "      <td>A</td>\n",
       "      <td>2006</td>\n",
       "      <td>527.000</td>\n",
       "      <td>NaN</td>\n",
       "    </tr>\n",
       "    <tr>\n",
       "      <th>1</th>\n",
       "      <td>AUS</td>\n",
       "      <td>PISASCIENCE</td>\n",
       "      <td>BOY</td>\n",
       "      <td>MEANSCORE</td>\n",
       "      <td>A</td>\n",
       "      <td>2009</td>\n",
       "      <td>527.000</td>\n",
       "      <td>NaN</td>\n",
       "    </tr>\n",
       "    <tr>\n",
       "      <th>2</th>\n",
       "      <td>AUS</td>\n",
       "      <td>PISASCIENCE</td>\n",
       "      <td>BOY</td>\n",
       "      <td>MEANSCORE</td>\n",
       "      <td>A</td>\n",
       "      <td>2012</td>\n",
       "      <td>523.728</td>\n",
       "      <td>NaN</td>\n",
       "    </tr>\n",
       "  </tbody>\n",
       "</table>\n",
       "</div>"
      ],
      "text/plain": [
       "  LOCATION    INDICATOR SUBJECT    MEASURE FREQUENCY  TIME    Value  \\\n",
       "0      AUS  PISASCIENCE     BOY  MEANSCORE         A  2006  527.000   \n",
       "1      AUS  PISASCIENCE     BOY  MEANSCORE         A  2009  527.000   \n",
       "2      AUS  PISASCIENCE     BOY  MEANSCORE         A  2012  523.728   \n",
       "\n",
       "   Flag Codes  \n",
       "0         NaN  \n",
       "1         NaN  \n",
       "2         NaN  "
      ]
     },
     "execution_count": 1037,
     "metadata": {},
     "output_type": "execute_result"
    }
   ],
   "source": [
    "file = ['./data/PISASCIENCE.csv','./data/PISAMATH.csv','./data/PISAREAD.csv']\n",
    "df = pd.read_csv(file[0])\n",
    "\n",
    "df.head(3)"
   ]
  },
  {
   "attachments": {},
   "cell_type": "markdown",
   "metadata": {},
   "source": [
    "### 簡化資料"
   ]
  },
  {
   "cell_type": "code",
   "execution_count": 1038,
   "metadata": {},
   "outputs": [
    {
     "data": {
      "text/html": [
       "<div>\n",
       "<style scoped>\n",
       "    .dataframe tbody tr th:only-of-type {\n",
       "        vertical-align: middle;\n",
       "    }\n",
       "\n",
       "    .dataframe tbody tr th {\n",
       "        vertical-align: top;\n",
       "    }\n",
       "\n",
       "    .dataframe thead th {\n",
       "        text-align: right;\n",
       "    }\n",
       "</style>\n",
       "<table border=\"1\" class=\"dataframe\">\n",
       "  <thead>\n",
       "    <tr style=\"text-align: right;\">\n",
       "      <th></th>\n",
       "      <th>TIME</th>\n",
       "      <th>LOCATION</th>\n",
       "      <th>SUBJECT</th>\n",
       "      <th>INDICATOR</th>\n",
       "      <th>Value</th>\n",
       "    </tr>\n",
       "  </thead>\n",
       "  <tbody>\n",
       "    <tr>\n",
       "      <th>0</th>\n",
       "      <td>2006</td>\n",
       "      <td>AUS</td>\n",
       "      <td>BOY</td>\n",
       "      <td>PISASCIENCE</td>\n",
       "      <td>527.000</td>\n",
       "    </tr>\n",
       "    <tr>\n",
       "      <th>1</th>\n",
       "      <td>2009</td>\n",
       "      <td>AUS</td>\n",
       "      <td>BOY</td>\n",
       "      <td>PISASCIENCE</td>\n",
       "      <td>527.000</td>\n",
       "    </tr>\n",
       "    <tr>\n",
       "      <th>2</th>\n",
       "      <td>2012</td>\n",
       "      <td>AUS</td>\n",
       "      <td>BOY</td>\n",
       "      <td>PISASCIENCE</td>\n",
       "      <td>523.728</td>\n",
       "    </tr>\n",
       "    <tr>\n",
       "      <th>3</th>\n",
       "      <td>2015</td>\n",
       "      <td>AUS</td>\n",
       "      <td>BOY</td>\n",
       "      <td>PISASCIENCE</td>\n",
       "      <td>511.000</td>\n",
       "    </tr>\n",
       "    <tr>\n",
       "      <th>4</th>\n",
       "      <td>2018</td>\n",
       "      <td>AUS</td>\n",
       "      <td>BOY</td>\n",
       "      <td>PISASCIENCE</td>\n",
       "      <td>504.000</td>\n",
       "    </tr>\n",
       "    <tr>\n",
       "      <th>...</th>\n",
       "      <td>...</td>\n",
       "      <td>...</td>\n",
       "      <td>...</td>\n",
       "      <td>...</td>\n",
       "      <td>...</td>\n",
       "    </tr>\n",
       "    <tr>\n",
       "      <th>595</th>\n",
       "      <td>2018</td>\n",
       "      <td>CRI</td>\n",
       "      <td>BOY</td>\n",
       "      <td>PISASCIENCE</td>\n",
       "      <td>420.000</td>\n",
       "    </tr>\n",
       "    <tr>\n",
       "      <th>596</th>\n",
       "      <td>2018</td>\n",
       "      <td>CRI</td>\n",
       "      <td>GIRL</td>\n",
       "      <td>PISASCIENCE</td>\n",
       "      <td>411.000</td>\n",
       "    </tr>\n",
       "    <tr>\n",
       "      <th>597</th>\n",
       "      <td>2018</td>\n",
       "      <td>LTU</td>\n",
       "      <td>TOT</td>\n",
       "      <td>PISASCIENCE</td>\n",
       "      <td>482.000</td>\n",
       "    </tr>\n",
       "    <tr>\n",
       "      <th>598</th>\n",
       "      <td>2018</td>\n",
       "      <td>LTU</td>\n",
       "      <td>BOY</td>\n",
       "      <td>PISASCIENCE</td>\n",
       "      <td>479.000</td>\n",
       "    </tr>\n",
       "    <tr>\n",
       "      <th>599</th>\n",
       "      <td>2018</td>\n",
       "      <td>LTU</td>\n",
       "      <td>GIRL</td>\n",
       "      <td>PISASCIENCE</td>\n",
       "      <td>485.000</td>\n",
       "    </tr>\n",
       "  </tbody>\n",
       "</table>\n",
       "<p>600 rows × 5 columns</p>\n",
       "</div>"
      ],
      "text/plain": [
       "     TIME LOCATION SUBJECT    INDICATOR    Value\n",
       "0    2006      AUS     BOY  PISASCIENCE  527.000\n",
       "1    2009      AUS     BOY  PISASCIENCE  527.000\n",
       "2    2012      AUS     BOY  PISASCIENCE  523.728\n",
       "3    2015      AUS     BOY  PISASCIENCE  511.000\n",
       "4    2018      AUS     BOY  PISASCIENCE  504.000\n",
       "..    ...      ...     ...          ...      ...\n",
       "595  2018      CRI     BOY  PISASCIENCE  420.000\n",
       "596  2018      CRI    GIRL  PISASCIENCE  411.000\n",
       "597  2018      LTU     TOT  PISASCIENCE  482.000\n",
       "598  2018      LTU     BOY  PISASCIENCE  479.000\n",
       "599  2018      LTU    GIRL  PISASCIENCE  485.000\n",
       "\n",
       "[600 rows x 5 columns]"
      ]
     },
     "execution_count": 1038,
     "metadata": {},
     "output_type": "execute_result"
    }
   ],
   "source": [
    "df = pd.read_csv(file[0])[[\"TIME\",\"LOCATION\",\"SUBJECT\",\"INDICATOR\",\"Value\"]]\n",
    "df"
   ]
  },
  {
   "attachments": {},
   "cell_type": "markdown",
   "metadata": {},
   "source": [
    "### 串接三個科目"
   ]
  },
  {
   "cell_type": "code",
   "execution_count": 1039,
   "metadata": {},
   "outputs": [
    {
     "data": {
      "text/html": [
       "<div>\n",
       "<style scoped>\n",
       "    .dataframe tbody tr th:only-of-type {\n",
       "        vertical-align: middle;\n",
       "    }\n",
       "\n",
       "    .dataframe tbody tr th {\n",
       "        vertical-align: top;\n",
       "    }\n",
       "\n",
       "    .dataframe thead th {\n",
       "        text-align: right;\n",
       "    }\n",
       "</style>\n",
       "<table border=\"1\" class=\"dataframe\">\n",
       "  <thead>\n",
       "    <tr style=\"text-align: right;\">\n",
       "      <th></th>\n",
       "      <th>TIME</th>\n",
       "      <th>LOCATION</th>\n",
       "      <th>SUBJECT</th>\n",
       "      <th>INDICATOR</th>\n",
       "      <th>Value</th>\n",
       "    </tr>\n",
       "  </thead>\n",
       "  <tbody>\n",
       "    <tr>\n",
       "      <th>0</th>\n",
       "      <td>2006</td>\n",
       "      <td>AUS</td>\n",
       "      <td>BOY</td>\n",
       "      <td>PISASCIENCE</td>\n",
       "      <td>527.000</td>\n",
       "    </tr>\n",
       "    <tr>\n",
       "      <th>1</th>\n",
       "      <td>2009</td>\n",
       "      <td>AUS</td>\n",
       "      <td>BOY</td>\n",
       "      <td>PISASCIENCE</td>\n",
       "      <td>527.000</td>\n",
       "    </tr>\n",
       "    <tr>\n",
       "      <th>2</th>\n",
       "      <td>2012</td>\n",
       "      <td>AUS</td>\n",
       "      <td>BOY</td>\n",
       "      <td>PISASCIENCE</td>\n",
       "      <td>523.728</td>\n",
       "    </tr>\n",
       "    <tr>\n",
       "      <th>3</th>\n",
       "      <td>2015</td>\n",
       "      <td>AUS</td>\n",
       "      <td>BOY</td>\n",
       "      <td>PISASCIENCE</td>\n",
       "      <td>511.000</td>\n",
       "    </tr>\n",
       "    <tr>\n",
       "      <th>4</th>\n",
       "      <td>2018</td>\n",
       "      <td>AUS</td>\n",
       "      <td>BOY</td>\n",
       "      <td>PISASCIENCE</td>\n",
       "      <td>504.000</td>\n",
       "    </tr>\n",
       "    <tr>\n",
       "      <th>...</th>\n",
       "      <td>...</td>\n",
       "      <td>...</td>\n",
       "      <td>...</td>\n",
       "      <td>...</td>\n",
       "      <td>...</td>\n",
       "    </tr>\n",
       "    <tr>\n",
       "      <th>782</th>\n",
       "      <td>2018</td>\n",
       "      <td>CRI</td>\n",
       "      <td>BOY</td>\n",
       "      <td>PISAREAD</td>\n",
       "      <td>419.000</td>\n",
       "    </tr>\n",
       "    <tr>\n",
       "      <th>783</th>\n",
       "      <td>2018</td>\n",
       "      <td>CRI</td>\n",
       "      <td>GIRL</td>\n",
       "      <td>PISAREAD</td>\n",
       "      <td>434.000</td>\n",
       "    </tr>\n",
       "    <tr>\n",
       "      <th>784</th>\n",
       "      <td>2018</td>\n",
       "      <td>LTU</td>\n",
       "      <td>TOT</td>\n",
       "      <td>PISAREAD</td>\n",
       "      <td>476.000</td>\n",
       "    </tr>\n",
       "    <tr>\n",
       "      <th>785</th>\n",
       "      <td>2018</td>\n",
       "      <td>LTU</td>\n",
       "      <td>BOY</td>\n",
       "      <td>PISAREAD</td>\n",
       "      <td>457.000</td>\n",
       "    </tr>\n",
       "    <tr>\n",
       "      <th>786</th>\n",
       "      <td>2018</td>\n",
       "      <td>LTU</td>\n",
       "      <td>GIRL</td>\n",
       "      <td>PISAREAD</td>\n",
       "      <td>496.000</td>\n",
       "    </tr>\n",
       "  </tbody>\n",
       "</table>\n",
       "<p>2087 rows × 5 columns</p>\n",
       "</div>"
      ],
      "text/plain": [
       "     TIME LOCATION SUBJECT    INDICATOR    Value\n",
       "0    2006      AUS     BOY  PISASCIENCE  527.000\n",
       "1    2009      AUS     BOY  PISASCIENCE  527.000\n",
       "2    2012      AUS     BOY  PISASCIENCE  523.728\n",
       "3    2015      AUS     BOY  PISASCIENCE  511.000\n",
       "4    2018      AUS     BOY  PISASCIENCE  504.000\n",
       "..    ...      ...     ...          ...      ...\n",
       "782  2018      CRI     BOY     PISAREAD  419.000\n",
       "783  2018      CRI    GIRL     PISAREAD  434.000\n",
       "784  2018      LTU     TOT     PISAREAD  476.000\n",
       "785  2018      LTU     BOY     PISAREAD  457.000\n",
       "786  2018      LTU    GIRL     PISAREAD  496.000\n",
       "\n",
       "[2087 rows x 5 columns]"
      ]
     },
     "execution_count": 1039,
     "metadata": {},
     "output_type": "execute_result"
    }
   ],
   "source": [
    "#concat all\n",
    "\n",
    "for i in range(1,len(file)):\n",
    "    new = pd.read_csv(file[i])[[\"TIME\",\"LOCATION\",\"SUBJECT\",\"INDICATOR\",\"Value\"]]\n",
    "    df = pd.concat([df,new])\n",
    "\n",
    "df"
   ]
  },
  {
   "attachments": {},
   "cell_type": "markdown",
   "metadata": {},
   "source": [
    "### 0.1 每年男女比是否平均？"
   ]
  },
  {
   "cell_type": "code",
   "execution_count": 1040,
   "metadata": {},
   "outputs": [
    {
     "data": {
      "text/plain": [
       "2015    1.0\n",
       "2018    1.0\n",
       "2012    1.0\n",
       "2009    1.0\n",
       "2006    1.0\n",
       "2003    1.0\n",
       "2000    1.0\n",
       "Name: TIME, dtype: float64"
      ]
     },
     "execution_count": 1040,
     "metadata": {},
     "output_type": "execute_result"
    }
   ],
   "source": [
    "gender = df.loc[df['SUBJECT'] == 'BOY', 'TIME'].value_counts()/df.loc[df['SUBJECT'] == 'GIRL', 'TIME'].value_counts()\n",
    "gender"
   ]
  },
  {
   "cell_type": "code",
   "execution_count": 1041,
   "metadata": {},
   "outputs": [
    {
     "name": "stdout",
     "output_type": "stream",
     "text": [
      "\n",
      "=======\n",
      "每年參與的男生總數\n",
      "=======\n",
      "2015    135\n",
      "2018    125\n",
      "2012    114\n",
      "2009    111\n",
      "2006    110\n",
      "2003     66\n",
      "2000     32\n",
      "Name: TIME, dtype: int64\n",
      "\n",
      "=======\n",
      "每年參與的女生總數\n",
      "=======\n",
      "2015    135\n",
      "2018    125\n",
      "2012    114\n",
      "2009    111\n",
      "2006    110\n",
      "2003     66\n",
      "2000     32\n",
      "Name: TIME, dtype: int64\n"
     ]
    }
   ],
   "source": [
    "print(\"\\n=======\\n每年參與的男生總數\\n=======\")\n",
    "gender_count = df.loc[df['SUBJECT'] == 'BOY', 'TIME'].value_counts()\n",
    "print(gender_count)\n",
    "\n",
    "print(\"\\n=======\\n每年參與的女生總數\\n=======\")\n",
    "gender_count = df.loc[df['SUBJECT'] == 'GIRL', 'TIME'].value_counts()\n",
    "print(gender_count)\n",
    "\n",
    "### 等等這好像是數成國家數？？？？？"
   ]
  },
  {
   "attachments": {},
   "cell_type": "markdown",
   "metadata": {},
   "source": [
    "### 0.2 全國不同性別的成績表現"
   ]
  },
  {
   "cell_type": "code",
   "execution_count": 1042,
   "metadata": {},
   "outputs": [
    {
     "name": "stdout",
     "output_type": "stream",
     "text": [
      "                         Value                                             \\\n",
      "                         count        mean        std      min        25%   \n",
      "TIME INDICATOR   SUBJECT                                                    \n",
      "2000 PISAREAD    BOY      32.0  470.798500  39.481657  360.000  457.50000   \n",
      "                 GIRL     32.0  501.650875  44.128125  380.000  490.25000   \n",
      "                 TOT      31.0  486.064516  41.373047  371.000  472.00000   \n",
      "2003 PISAMATH    BOY      33.0  495.555545  47.966325  362.000  486.00000   \n",
      "                 GIRL     33.0  484.964636  48.685742  348.000  480.00000   \n",
      "                 TOT      33.0  489.575758  48.178723  356.000  483.00000   \n",
      "     PISAREAD    BOY      33.0  469.001000  36.694060  369.000  459.00000   \n",
      "                 GIRL     33.0  503.353545  38.382936  394.000  495.00000   \n",
      "                 TOT      33.0  485.969697  36.953082  382.000  478.00000   \n",
      "2006 PISAMATH    BOY      37.0  493.748811  41.755646  380.000  479.00000   \n",
      "                 GIRL     37.0  482.259135  43.358300  361.000  470.00000   \n",
      "                 TOT      39.0  487.641026  41.296417  370.000  475.00000   \n",
      "     PISAREAD    BOY      36.0  465.057250  35.710141  376.000  447.50000   \n",
      "                 GIRL     36.0  502.821556  37.788111  402.000  488.00000   \n",
      "                 TOT      37.0  482.189189  36.625612  393.000  466.00000   \n",
      "     PISASCIENCE BOY      37.0  493.903811  38.509834  395.000  484.00000   \n",
      "                 GIRL     37.0  491.138324  40.344255  386.000  482.00000   \n",
      "                 TOT      39.0  492.025641  38.276341  390.000  482.00000   \n",
      "2009 PISAMATH    BOY      37.0  493.956270  39.316177  371.000  491.00000   \n",
      "                 GIRL     37.0  483.102541  39.325836  372.000  475.00000   \n",
      "                 TOT      38.0  488.394737  38.743466  371.000  483.00000   \n",
      "     PISAREAD    BOY      37.0  469.218595  29.278889  383.000  456.00000   \n",
      "                 GIRL     37.0  508.114459  31.251631  420.000  503.00000   \n",
      "                 TOT      37.0  488.135135  29.834881  402.000  478.00000   \n",
      "     PISASCIENCE BOY      37.0  494.428459  36.753371  378.000  488.00000   \n",
      "                 GIRL     37.0  494.860108  37.164871  387.000  485.00000   \n",
      "                 TOT      38.0  494.815789  36.208746  383.000  488.25000   \n",
      "2012 PISAMATH    BOY      38.0  493.139000  37.393778  377.376  482.22350   \n",
      "                 GIRL     38.0  482.577500  37.663780  372.785  476.15175   \n",
      "                 TOT      39.0  487.923077  37.195348  375.000  481.50000   \n",
      "     PISAREAD    BOY      38.0  472.518079  30.988797  382.254  457.45400   \n",
      "                 GIRL     38.0  509.742921  32.217643  410.408  504.13075   \n",
      "                 TOT      39.0  490.820513  30.920843  396.000  483.00000   \n",
      "     PISASCIENCE BOY      38.0  495.650237  36.925002  380.409  481.74625   \n",
      "                 GIRL     38.0  494.491842  36.512305  383.459  484.74125   \n",
      "                 TOT      39.0  495.128205  36.239829  382.000  486.00000   \n",
      "2015 PISAMATH    BOY      45.0  489.777778  43.461524  385.000  481.00000   \n",
      "                 GIRL     45.0  482.600000  44.875788  370.000  473.00000   \n",
      "                 TOT      45.0  486.222222  43.994260  377.000  477.00000   \n",
      "     PISAREAD    BOY      45.0  474.288889  33.396123  386.000  467.00000   \n",
      "                 GIRL     45.0  500.355556  36.292471  401.000  492.00000   \n",
      "                 TOT      45.0  487.177778  34.426660  397.000  481.00000   \n",
      "     PISASCIENCE BOY      45.0  490.577778  38.251256  401.000  478.00000   \n",
      "                 GIRL     45.0  487.200000  38.879534  392.000  475.00000   \n",
      "                 TOT      44.0  488.931818  38.805057  397.000  476.00000   \n",
      "2018 PISAMATH    BOY      42.0  484.595238  38.821078  374.000  482.75000   \n",
      "                 GIRL     42.0  479.428571  39.903018  379.000  477.25000   \n",
      "                 TOT      42.0  481.928571  39.155969  379.000  481.00000   \n",
      "     PISAREAD    BOY      41.0  466.365854  32.014650  358.000  454.00000   \n",
      "                 GIRL     41.0  495.365854  35.042657  383.000  489.00000   \n",
      "                 TOT      41.0  480.756098  33.217300  371.000  470.00000   \n",
      "     PISASCIENCE BOY      42.0  481.428571  32.599673  393.000  470.25000   \n",
      "                 GIRL     42.0  483.452381  34.189003  399.000  473.50000   \n",
      "                 TOT      42.0  482.428571  33.127354  396.000  469.75000   \n",
      "\n",
      "                                                        \n",
      "                               50%        75%      max  \n",
      "TIME INDICATOR   SUBJECT                                \n",
      "2000 PISAREAD    BOY      479.7760  493.75000  520.000  \n",
      "                 GIRL     510.0000  530.00000  571.000  \n",
      "                 TOT      493.0000  511.50000  546.000  \n",
      "2003 PISAMATH    BOY      508.0000  527.00000  552.000  \n",
      "                 GIRL     495.0000  518.00000  541.000  \n",
      "                 TOT      503.0000  523.00000  544.000  \n",
      "     PISAREAD    BOY      475.0000  489.00000  525.000  \n",
      "                 GIRL     511.6670  525.00000  565.000  \n",
      "                 TOT      492.0000  507.00000  543.000  \n",
      "2006 PISAMATH    BOY      503.0000  518.00000  554.000  \n",
      "                 GIRL     492.0000  513.00000  543.000  \n",
      "                 TOT      495.0000  514.00000  548.000  \n",
      "     PISAREAD    BOY      469.0000  484.75000  539.000  \n",
      "                 GIRL     509.0000  522.50000  574.000  \n",
      "                 TOT      488.0000  501.00000  556.000  \n",
      "     PISASCIENCE BOY      500.0000  519.00000  562.000  \n",
      "                 GIRL     497.1180  512.00000  565.000  \n",
      "                 TOT      498.0000  515.50000  563.000  \n",
      "2009 PISAMATH    BOY      499.0000  519.00000  548.000  \n",
      "                 GIRL     490.0000  505.00000  544.000  \n",
      "                 TOT      494.5000  512.75000  546.000  \n",
      "     PISAREAD    BOY      475.0000  481.00000  523.000  \n",
      "                 GIRL     513.0000  522.00000  563.000  \n",
      "                 TOT      495.0000  501.00000  539.000  \n",
      "     PISASCIENCE BOY      500.8530  520.00000  546.000  \n",
      "                 GIRL     500.8240  518.00000  562.000  \n",
      "                 TOT      500.0000  516.25000  554.000  \n",
      "2012 PISAMATH    BOY      499.8580  517.21375  562.114  \n",
      "                 GIRL     489.7020  504.81550  544.193  \n",
      "                 TOT      494.0000  510.00000  554.000  \n",
      "     PISAREAD    BOY      475.9075  493.69325  526.618  \n",
      "                 GIRL     511.5315  529.09925  555.708  \n",
      "                 TOT      493.0000  510.00000  538.000  \n",
      "     PISASCIENCE BOY      500.9910  522.87200  551.947  \n",
      "                 GIRL     499.2410  519.02225  553.893  \n",
      "                 TOT      499.0000  518.50000  547.000  \n",
      "2015 PISAMATH    BOY      497.0000  514.00000  564.000  \n",
      "                 GIRL     490.0000  508.00000  564.000  \n",
      "                 TOT      494.0000  511.00000  564.000  \n",
      "     PISAREAD    BOY      485.0000  493.00000  525.000  \n",
      "                 GIRL     507.0000  523.00000  551.000  \n",
      "                 TOT      497.0000  509.00000  535.000  \n",
      "     PISASCIENCE BOY      500.0000  511.00000  559.000  \n",
      "                 GIRL     496.0000  509.00000  552.000  \n",
      "                 TOT      497.0000  510.75000  556.000  \n",
      "2018 PISAMATH    BOY      497.0000  507.25000  532.000  \n",
      "                 GIRL     491.0000  504.50000  524.000  \n",
      "                 TOT      494.5000  505.75000  527.000  \n",
      "     PISAREAD    BOY      472.0000  489.00000  508.000  \n",
      "                 GIRL     502.0000  517.00000  546.000  \n",
      "                 TOT      487.0000  504.00000  523.000  \n",
      "     PISASCIENCE BOY      491.5000  502.00000  531.000  \n",
      "                 GIRL     492.0000  503.00000  534.000  \n",
      "                 TOT      491.0000  503.00000  530.000  \n"
     ]
    }
   ],
   "source": [
    "gender = df.groupby(['TIME', \"INDICATOR\",'SUBJECT']).describe()\n",
    "print(gender)\n"
   ]
  },
  {
   "attachments": {},
   "cell_type": "markdown",
   "metadata": {},
   "source": [
    "### 1. 歷年數學平均成績變化情形"
   ]
  },
  {
   "cell_type": "code",
   "execution_count": 1043,
   "metadata": {},
   "outputs": [
    {
     "name": "stdout",
     "output_type": "stream",
     "text": [
      "     TIME LOCATION SUBJECT INDICATOR  Value\n",
      "446  2003      AUS     TOT  PISAMATH  524.0\n",
      "447  2006      AUS     TOT  PISAMATH  520.0\n",
      "448  2009      AUS     TOT  PISAMATH  514.0\n",
      "449  2012      AUS     TOT  PISAMATH  504.0\n",
      "450  2015      AUS     TOT  PISAMATH  494.0\n",
      "..    ...      ...     ...       ...    ...\n",
      "687  2015      SGP     TOT  PISAMATH  564.0\n",
      "688  2015      TWN     TOT  PISAMATH  542.0\n",
      "691  2015      MAC     TOT  PISAMATH  544.0\n",
      "694  2018      CRI     TOT  PISAMATH  402.0\n",
      "697  2018      LTU     TOT  PISAMATH  481.0\n",
      "\n",
      "[236 rows x 5 columns]\n"
     ]
    }
   ],
   "source": [
    "# 過濾資料\n",
    "\n",
    "filt = (df['SUBJECT'] == 'TOT') & (df['INDICATOR'] == 'PISAMATH')\n",
    "\n",
    "temp = df.loc[filt]\n",
    "print(temp)"
   ]
  },
  {
   "cell_type": "code",
   "execution_count": 1044,
   "metadata": {},
   "outputs": [
    {
     "name": "stdout",
     "output_type": "stream",
     "text": [
      "\n",
      "=======\n",
      "歷年數學平均成績\n",
      "=======\n",
      "TIME\n",
      "2003    489.575758\n",
      "2006    487.641026\n",
      "2009    488.394737\n",
      "2012    487.923077\n",
      "2015    486.222222\n",
      "2018    481.928571\n",
      "Name: Value, dtype: float64\n"
     ]
    }
   ],
   "source": [
    "# 計算每年平均\n",
    "print(\"\\n=======\\n歷年數學平均成績\\n=======\")\n",
    "result = temp.groupby(['TIME'])['Value'].mean()\n",
    "print(result)\n",
    "\n",
    "math_avg = result"
   ]
  },
  {
   "attachments": {},
   "cell_type": "markdown",
   "metadata": {},
   "source": [
    "發現：居然越來越低了"
   ]
  },
  {
   "attachments": {},
   "cell_type": "markdown",
   "metadata": {},
   "source": [
    "### 2. 歷年閱讀平均成績變化情形"
   ]
  },
  {
   "cell_type": "code",
   "execution_count": 1045,
   "metadata": {},
   "outputs": [
    {
     "name": "stdout",
     "output_type": "stream",
     "text": [
      "     TIME LOCATION SUBJECT INDICATOR  Value\n",
      "506  2000      AUS     TOT  PISAREAD  528.0\n",
      "507  2003      AUS     TOT  PISAREAD  525.0\n",
      "508  2006      AUS     TOT  PISAREAD  513.0\n",
      "509  2009      AUS     TOT  PISAREAD  515.0\n",
      "510  2012      AUS     TOT  PISAREAD  512.0\n",
      "..    ...      ...     ...       ...    ...\n",
      "774  2015      SGP     TOT  PISAREAD  535.0\n",
      "775  2015      TWN     TOT  PISAREAD  497.0\n",
      "778  2015      MAC     TOT  PISAREAD  509.0\n",
      "781  2018      CRI     TOT  PISAREAD  426.0\n",
      "784  2018      LTU     TOT  PISAREAD  476.0\n",
      "\n",
      "[263 rows x 5 columns]\n"
     ]
    }
   ],
   "source": [
    "# 過濾資料\n",
    "\n",
    "filt = (df['SUBJECT'] == 'TOT') & (df['INDICATOR'] == 'PISAREAD')\n",
    "temp = df.loc[filt]\n",
    "print(temp)"
   ]
  },
  {
   "cell_type": "code",
   "execution_count": 1046,
   "metadata": {},
   "outputs": [
    {
     "name": "stdout",
     "output_type": "stream",
     "text": [
      "\n",
      "=======\n",
      "歷年閱讀平均成績\n",
      "=======\n",
      "TIME\n",
      "2000    486.064516\n",
      "2003    485.969697\n",
      "2006    482.189189\n",
      "2009    488.135135\n",
      "2012    490.820513\n",
      "2015    487.177778\n",
      "2018    480.756098\n",
      "Name: Value, dtype: float64\n"
     ]
    }
   ],
   "source": [
    "# 計算每年平均\n",
    "print(\"\\n=======\\n歷年閱讀平均成績\\n=======\")\n",
    "read_avg = temp.groupby(['TIME'])['Value'].mean()\n",
    "print(read_avg)\n",
    "\n",
    "read_avg = result"
   ]
  },
  {
   "attachments": {},
   "cell_type": "markdown",
   "metadata": {},
   "source": [
    "### 3. 歷年科學平均成績變化情形"
   ]
  },
  {
   "cell_type": "code",
   "execution_count": 1047,
   "metadata": {},
   "outputs": [
    {
     "name": "stdout",
     "output_type": "stream",
     "text": [
      "     TIME LOCATION SUBJECT    INDICATOR  Value\n",
      "380  2006      AUS     TOT  PISASCIENCE  527.0\n",
      "381  2009      AUS     TOT  PISASCIENCE  527.0\n",
      "382  2012      AUS     TOT  PISASCIENCE  521.0\n",
      "383  2015      AUS     TOT  PISASCIENCE  510.0\n",
      "384  2018      AUS     TOT  PISASCIENCE  503.0\n",
      "..    ...      ...     ...          ...    ...\n",
      "587  2015      SGP     TOT  PISASCIENCE  556.0\n",
      "588  2015      TWN     TOT  PISASCIENCE  532.0\n",
      "591  2015      MAC     TOT  PISASCIENCE  529.0\n",
      "594  2018      CRI     TOT  PISASCIENCE  416.0\n",
      "597  2018      LTU     TOT  PISASCIENCE  482.0\n",
      "\n",
      "[202 rows x 5 columns]\n"
     ]
    }
   ],
   "source": [
    "# 過濾資料\n",
    "\n",
    "filt = (df['SUBJECT'] == 'TOT') & (df['INDICATOR'] == 'PISASCIENCE')\n",
    "temp = df.loc[filt]\n",
    "print(temp)"
   ]
  },
  {
   "cell_type": "code",
   "execution_count": 1048,
   "metadata": {},
   "outputs": [
    {
     "name": "stdout",
     "output_type": "stream",
     "text": [
      "\n",
      "=======\n",
      "歷年科學平均成績\n",
      "=======\n",
      "TIME\n",
      "2006    492.025641\n",
      "2009    494.815789\n",
      "2012    495.128205\n",
      "2015    488.931818\n",
      "2018    482.428571\n",
      "Name: Value, dtype: float64\n"
     ]
    }
   ],
   "source": [
    "# 計算每年平均\n",
    "print(\"\\n=======\\n歷年科學平均成績\\n=======\")\n",
    "result = temp.groupby(['TIME'])['Value'].mean()\n",
    "print(result)\n",
    "\n",
    "science_avg = result"
   ]
  },
  {
   "attachments": {},
   "cell_type": "markdown",
   "metadata": {},
   "source": [
    "### 4. 歷年男生數學平均成績變化情形"
   ]
  },
  {
   "cell_type": "code",
   "execution_count": 1049,
   "metadata": {},
   "outputs": [
    {
     "name": "stdout",
     "output_type": "stream",
     "text": [
      "\n",
      "=======\n",
      "歷年男生數學平均成績\n",
      "=======\n",
      "TIME\n",
      "2006    493.903811\n",
      "2009    494.428459\n",
      "2012    495.650237\n",
      "2015    490.577778\n",
      "2018    481.428571\n",
      "Name: Value, dtype: float64\n"
     ]
    }
   ],
   "source": [
    "# 過濾資料\n",
    "filt = (df['SUBJECT'] == 'BOY') & (df['INDICATOR'] == 'PISASCIENCE')\n",
    "temp = df.loc[filt]\n",
    "#print(temp)\n",
    "\n",
    "# 計算每年平均\n",
    "print(\"\\n=======\\n歷年男生數學平均成績\\n=======\")\n",
    "result = temp.groupby(['TIME'])['Value'].mean()\n",
    "print(result)"
   ]
  },
  {
   "attachments": {},
   "cell_type": "markdown",
   "metadata": {},
   "source": [
    "### 5. 歷年女生數學平均成績變化情形"
   ]
  },
  {
   "cell_type": "code",
   "execution_count": 1050,
   "metadata": {},
   "outputs": [
    {
     "name": "stdout",
     "output_type": "stream",
     "text": [
      "\n",
      "=======\n",
      "歷年女生數學平均成績\n",
      "=======\n",
      "TIME\n",
      "2006    491.138324\n",
      "2009    494.860108\n",
      "2012    494.491842\n",
      "2015    487.200000\n",
      "2018    483.452381\n",
      "Name: Value, dtype: float64\n"
     ]
    }
   ],
   "source": [
    "# 過濾資料\n",
    "filt = (df['SUBJECT'] == 'GIRL') & (df['INDICATOR'] == 'PISASCIENCE')\n",
    "temp = df.loc[filt]\n",
    "#print(temp)\n",
    "\n",
    "# 計算每年平均\n",
    "print(\"\\n=======\\n歷年女生數學平均成績\\n=======\")\n",
    "result = temp.groupby(['TIME'])['Value'].mean()\n",
    "print(result)"
   ]
  },
  {
   "attachments": {},
   "cell_type": "markdown",
   "metadata": {},
   "source": [
    "發現：女生的數學平均成績在2009和2018高於男生"
   ]
  },
  {
   "attachments": {},
   "cell_type": "markdown",
   "metadata": {},
   "source": [
    "### 6. 歷年男生科學平均成績變化情形"
   ]
  },
  {
   "cell_type": "code",
   "execution_count": 1051,
   "metadata": {},
   "outputs": [],
   "source": [
    "#定義函數\n",
    "\n",
    "def SubjectAvg(who,what):\n",
    "    # 過濾資料\n",
    "    filt = (df['SUBJECT'] == who) & (df['INDICATOR'] == what)\n",
    "    temp = df.loc[filt]\n",
    "    \n",
    "    # 編碼表產生標題變數\n",
    "    name = {'PISASCIENCE': \"科學\", 'PISAMATH': \"數學\", 'PISAREAD': '閱讀', \"GIRL\": \"女生\", \"BOY\": \"男生\"}\n",
    "    WHO = name[who]\n",
    "    WHAT = name[what]\n",
    "\n",
    "    # 計算每年平均\n",
    "    print(\"\\n=======\\n歷年{}{}平均成績\\n=======\".format(WHO,WHAT))\n",
    "    result = temp.groupby(['TIME'])['Value'].mean()\n",
    "    print(result)\n"
   ]
  },
  {
   "cell_type": "code",
   "execution_count": 1052,
   "metadata": {},
   "outputs": [
    {
     "name": "stdout",
     "output_type": "stream",
     "text": [
      "\n",
      "=======\n",
      "歷年男生科學平均成績\n",
      "=======\n",
      "TIME\n",
      "2006    493.903811\n",
      "2009    494.428459\n",
      "2012    495.650237\n",
      "2015    490.577778\n",
      "2018    481.428571\n",
      "Name: Value, dtype: float64\n"
     ]
    }
   ],
   "source": [
    "SubjectAvg(\"BOY\",\"PISASCIENCE\")"
   ]
  },
  {
   "attachments": {},
   "cell_type": "markdown",
   "metadata": {},
   "source": [
    "### 7. 歷年女生科學平均成績變化情形"
   ]
  },
  {
   "cell_type": "code",
   "execution_count": 1053,
   "metadata": {},
   "outputs": [
    {
     "name": "stdout",
     "output_type": "stream",
     "text": [
      "\n",
      "=======\n",
      "歷年女生科學平均成績\n",
      "=======\n",
      "TIME\n",
      "2006    491.138324\n",
      "2009    494.860108\n",
      "2012    494.491842\n",
      "2015    487.200000\n",
      "2018    483.452381\n",
      "Name: Value, dtype: float64\n"
     ]
    }
   ],
   "source": [
    "SubjectAvg(\"GIRL\",\"PISASCIENCE\")"
   ]
  },
  {
   "attachments": {},
   "cell_type": "markdown",
   "metadata": {},
   "source": [
    "發現：女生的科學平均成績 也在 2009和2018高於男生"
   ]
  },
  {
   "attachments": {},
   "cell_type": "markdown",
   "metadata": {},
   "source": [
    "### 8. 歷年兩性閱讀平均成績變化情形"
   ]
  },
  {
   "cell_type": "code",
   "execution_count": 1054,
   "metadata": {},
   "outputs": [
    {
     "name": "stdout",
     "output_type": "stream",
     "text": [
      "\n",
      "=======\n",
      "歷年男生閱讀平均成績\n",
      "=======\n",
      "TIME\n",
      "2000    470.798500\n",
      "2003    469.001000\n",
      "2006    465.057250\n",
      "2009    469.218595\n",
      "2012    472.518079\n",
      "2015    474.288889\n",
      "2018    466.365854\n",
      "Name: Value, dtype: float64\n",
      "\n",
      "=======\n",
      "歷年女生閱讀平均成績\n",
      "=======\n",
      "TIME\n",
      "2000    501.650875\n",
      "2003    503.353545\n",
      "2006    502.821556\n",
      "2009    508.114459\n",
      "2012    509.742921\n",
      "2015    500.355556\n",
      "2018    495.365854\n",
      "Name: Value, dtype: float64\n"
     ]
    }
   ],
   "source": [
    "SubjectAvg(\"BOY\",\"PISAREAD\")\n",
    "SubjectAvg(\"GIRL\",\"PISAREAD\")"
   ]
  },
  {
   "attachments": {},
   "cell_type": "markdown",
   "metadata": {},
   "source": [
    "### 9.歷年閱讀平均成績之「男女比」變化情形"
   ]
  },
  {
   "cell_type": "code",
   "execution_count": 1055,
   "metadata": {},
   "outputs": [],
   "source": [
    "#定義函數\n",
    "\n",
    "def SubjectAvgSexRatio(what):\n",
    "    # 過濾資料\n",
    "    filt = (df['SUBJECT'] == \"BOY\") & (df['INDICATOR'] == what)\n",
    "    b = df.loc[filt]\n",
    "    filt = (df['SUBJECT'] == \"GIRL\") & (df['INDICATOR'] == what)\n",
    "    g = df.loc[filt]\n",
    "    \n",
    "    # 編碼表產生標題變數\n",
    "    name = {'PISASCIENCE': \"科學\", 'PISAMATH': \"數學\", 'PISAREAD': '閱讀'}\n",
    "    WHAT = name[what]\n",
    "\n",
    "    # 計算每年平均\n",
    "    print(\"\\n=======\\n歷年{}平均成績男女比\\n=======\".format(WHAT))\n",
    "    result = b.groupby(['TIME'])['Value'].mean() / g.groupby(['TIME'])['Value'].mean()\n",
    "    print(result)"
   ]
  },
  {
   "cell_type": "code",
   "execution_count": 1056,
   "metadata": {},
   "outputs": [
    {
     "name": "stdout",
     "output_type": "stream",
     "text": [
      "\n",
      "=======\n",
      "歷年閱讀平均成績男女比\n",
      "=======\n",
      "TIME\n",
      "2000    0.938498\n",
      "2003    0.931753\n",
      "2006    0.924895\n",
      "2009    0.923451\n",
      "2012    0.926973\n",
      "2015    0.947904\n",
      "2018    0.941457\n",
      "Name: Value, dtype: float64\n"
     ]
    }
   ],
   "source": [
    "SubjectAvgSexRatio(\"PISAREAD\")"
   ]
  },
  {
   "attachments": {},
   "cell_type": "markdown",
   "metadata": {},
   "source": [
    "發現：\n",
    "1. 女生在閱讀能力超過男性\n",
    "1. 函式很好用"
   ]
  },
  {
   "attachments": {},
   "cell_type": "markdown",
   "metadata": {},
   "source": [
    "### 10. 另外兩科的男女比？"
   ]
  },
  {
   "cell_type": "code",
   "execution_count": 1057,
   "metadata": {},
   "outputs": [
    {
     "name": "stdout",
     "output_type": "stream",
     "text": [
      "\n",
      "=======\n",
      "歷年數學平均成績男女比\n",
      "=======\n",
      "TIME\n",
      "2003    1.021839\n",
      "2006    1.023825\n",
      "2009    1.022467\n",
      "2012    1.021886\n",
      "2015    1.014873\n",
      "2018    1.010777\n",
      "Name: Value, dtype: float64\n",
      "\n",
      "=======\n",
      "歷年科學平均成績男女比\n",
      "=======\n",
      "TIME\n",
      "2006    1.005631\n",
      "2009    0.999128\n",
      "2012    1.002343\n",
      "2015    1.006933\n",
      "2018    0.995814\n",
      "Name: Value, dtype: float64\n"
     ]
    }
   ],
   "source": [
    "SubjectAvgSexRatio(\"PISAMATH\")\n",
    "SubjectAvgSexRatio(\"PISASCIENCE\")"
   ]
  },
  {
   "attachments": {},
   "cell_type": "markdown",
   "metadata": {},
   "source": [
    "發現：科學的男女比結果與目測相同，數學不知為何不同，待確認。"
   ]
  },
  {
   "attachments": {},
   "cell_type": "markdown",
   "metadata": {},
   "source": [
    "### 10.1 閱讀能力高於平均的國家且數學也高於平均的國家有多少？（以2006為例）"
   ]
  },
  {
   "attachments": {},
   "cell_type": "markdown",
   "metadata": {},
   "source": [
    "以前老師都說閱讀能力高的人數學應該要很強，想驗證看看。  \n",
    "本來想要直接寫函式跑出三項分數每年的關係，但還沒成功，只好先把題目簡化成一年。  \n",
    "但已經半夜三點半我撐不住了，下次再繼續改。"
   ]
  },
  {
   "cell_type": "code",
   "execution_count": 1058,
   "metadata": {},
   "outputs": [
    {
     "name": "stdout",
     "output_type": "stream",
     "text": [
      "TIME\n",
      "2003    489.575758\n",
      "2006    487.641026\n",
      "2009    488.394737\n",
      "2012    487.923077\n",
      "2015    486.222222\n",
      "2018    481.928571\n",
      "Name: Value, dtype: float64\n"
     ]
    },
    {
     "data": {
      "text/plain": [
       "481.92857142857144"
      ]
     },
     "execution_count": 1058,
     "metadata": {},
     "output_type": "execute_result"
    }
   ],
   "source": [
    "print(read_avg)\n",
    "read_avg[2018]"
   ]
  },
  {
   "cell_type": "code",
   "execution_count": 1068,
   "metadata": {},
   "outputs": [],
   "source": [
    "# 重疊年份\n",
    "year = [2006,2009,2012,2015,2018]"
   ]
  },
  {
   "cell_type": "code",
   "execution_count": 1060,
   "metadata": {},
   "outputs": [
    {
     "data": {
      "text/plain": [
       "47"
      ]
     },
     "execution_count": 1060,
     "metadata": {},
     "output_type": "execute_result"
    }
   ],
   "source": [
    "#取得所有參與國家\n",
    "\n",
    "filt =  (df['SUBJECT'] == \"TOT\") & (df['INDICATOR'] == \"PISAREAD\")\n",
    "allLocation = df.loc[filt][\"LOCATION\"].drop_duplicates()\n",
    "len(allLocation)"
   ]
  },
  {
   "cell_type": "code",
   "execution_count": 1074,
   "metadata": {},
   "outputs": [],
   "source": [
    "# 閱讀高於平均的國家\n",
    "\n",
    "read_aboveAvg = (df[\"TIME\"] == year[0]) & (df['SUBJECT'] == \"TOT\") & (df['INDICATOR'] == \"PISAREAD\") & (df['Value'] > read_avg[year[0]]) \n",
    "\n",
    "#temp = df.loc[read_aboveAvg][\"LOCATION\"]\n",
    "\n",
    "read = df.loc[read_aboveAvg][\"LOCATION\"]\n"
   ]
  },
  {
   "cell_type": "code",
   "execution_count": 1073,
   "metadata": {},
   "outputs": [],
   "source": [
    "# 2006 數學高於平均的國家\n",
    "\n",
    "math_aboveAvg = (df[\"TIME\"] == year[0]) & (df['SUBJECT'] == \"TOT\") & (df['INDICATOR'] == \"PISAMATH\") & (df['Value'] > math_avg[year[0]]) \n",
    "\n",
    "#temp = df.loc[math_aboveAvg][\"LOCATION\"]\n",
    "\n",
    "math = df.loc[read_aboveAvg][\"LOCATION\"]"
   ]
  },
  {
   "cell_type": "code",
   "execution_count": 1106,
   "metadata": {},
   "outputs": [
    {
     "name": "stdout",
     "output_type": "stream",
     "text": [
      "38\n",
      "19\n",
      "以下共 19 個國家的閱讀與數學皆高於平均\n",
      "19    AUS\n",
      "20    AUT\n",
      "21    BEL\n",
      "22    CAN\n",
      "23    DNK\n",
      "24    FIN\n",
      "25    FRA\n",
      "26    DEU\n",
      "27    IRL\n",
      "28    JPN\n",
      "29    KOR\n",
      "30    NLD\n",
      "31    NZL\n",
      "32    POL\n",
      "33    SWE\n",
      "34    CHE\n",
      "35    GBR\n",
      "36    EST\n",
      "37    SVN\n",
      "Name: LOCATION, dtype: object\n",
      "\n",
      "為所有國家的 40.43 %\n"
     ]
    }
   ],
   "source": [
    "# 尋找重疊：閱讀高且數學高\n",
    "\n",
    "math_read = pd.concat([read,math]).reset_index()\n",
    "temp = math_read.duplicated()\n",
    "math_read[\"math\"] = temp\n",
    "#print(len(math_read))\n",
    "a = math_read.loc[(math_read[\"math\"] == True)]\n",
    "#print(len(a))\n",
    "\n",
    "print(\"以下共 {} 個國家的閱讀與數學皆高於平均\".format(len(a)))\n",
    "print(a[\"LOCATION\"])\n",
    "n = len(a)/len(allLocation)*100\n",
    "print(\"\\n為所有國家的 {:.2f} %\".format(n))"
   ]
  },
  {
   "attachments": {},
   "cell_type": "markdown",
   "metadata": {},
   "source": [
    "---"
   ]
  },
  {
   "attachments": {},
   "cell_type": "markdown",
   "metadata": {},
   "source": [
    "### 10.2 寫出函式自動跑出每一年的結果"
   ]
  },
  {
   "attachments": {},
   "cell_type": "markdown",
   "metadata": {},
   "source": [
    "以下為撰寫問題10.1留下程式碼"
   ]
  },
  {
   "cell_type": "code",
   "execution_count": null,
   "metadata": {},
   "outputs": [],
   "source": [
    "ans = []\n",
    "\n",
    "\n",
    "if math_read.iloc[i] in science_read.values:\n",
    "    ans.append(math_read.iloc[i])\n",
    "\n",
    "print(\"以下共 {} 個國家的三科皆高於平均\".format(len(ans)))\n",
    "print(ans)\n",
    "n = len(ans)/len(allLocation)*100\n",
    "print(\"\\n為所有國家的 {:.2f} %\".format(n))"
   ]
  },
  {
   "cell_type": "code",
   "execution_count": 1063,
   "metadata": {},
   "outputs": [],
   "source": [
    "for i in range(1,len(year)):\n",
    "    t = year[i]\n",
    "    read_aboveAvg = (df[\"TIME\"] == t) & (df['SUBJECT'] == \"TOT\") & (df['INDICATOR'] == \"PISAREAD\") & (df['Value'] > read_avg[t]) \n",
    "    temp = df.loc[read_aboveAvg][[\"LOCATION\",\"TIME\"]]\n",
    "    read = pd.concat([read,temp])\n",
    "    \n",
    "\n",
    "    math_aboveAvg = (df[\"TIME\"] == t) & (df['SUBJECT'] == \"TOT\") & (df['INDICATOR'] == \"PISAMATH\") & (df['Value'] > math_avg[t]) \n",
    "    temp = df.loc[read_aboveAvg][\"LOCATION\"]\n",
    "    read = pd.concat([read,temp])"
   ]
  },
  {
   "cell_type": "code",
   "execution_count": 1064,
   "metadata": {},
   "outputs": [
    {
     "data": {
      "text/html": [
       "<div>\n",
       "<style scoped>\n",
       "    .dataframe tbody tr th:only-of-type {\n",
       "        vertical-align: middle;\n",
       "    }\n",
       "\n",
       "    .dataframe tbody tr th {\n",
       "        vertical-align: top;\n",
       "    }\n",
       "\n",
       "    .dataframe thead th {\n",
       "        text-align: right;\n",
       "    }\n",
       "</style>\n",
       "<table border=\"1\" class=\"dataframe\">\n",
       "  <thead>\n",
       "    <tr style=\"text-align: right;\">\n",
       "      <th></th>\n",
       "      <th>0</th>\n",
       "      <th>LOCATION</th>\n",
       "      <th>TIME</th>\n",
       "    </tr>\n",
       "  </thead>\n",
       "  <tbody>\n",
       "    <tr>\n",
       "      <th>508</th>\n",
       "      <td>AUS</td>\n",
       "      <td>NaN</td>\n",
       "      <td>NaN</td>\n",
       "    </tr>\n",
       "    <tr>\n",
       "      <th>515</th>\n",
       "      <td>AUT</td>\n",
       "      <td>NaN</td>\n",
       "      <td>NaN</td>\n",
       "    </tr>\n",
       "    <tr>\n",
       "      <th>521</th>\n",
       "      <td>BEL</td>\n",
       "      <td>NaN</td>\n",
       "      <td>NaN</td>\n",
       "    </tr>\n",
       "    <tr>\n",
       "      <th>528</th>\n",
       "      <td>CAN</td>\n",
       "      <td>NaN</td>\n",
       "      <td>NaN</td>\n",
       "    </tr>\n",
       "    <tr>\n",
       "      <th>542</th>\n",
       "      <td>DNK</td>\n",
       "      <td>NaN</td>\n",
       "      <td>NaN</td>\n",
       "    </tr>\n",
       "    <tr>\n",
       "      <th>...</th>\n",
       "      <td>...</td>\n",
       "      <td>...</td>\n",
       "      <td>...</td>\n",
       "    </tr>\n",
       "    <tr>\n",
       "      <th>700</th>\n",
       "      <td>GBR</td>\n",
       "      <td>NaN</td>\n",
       "      <td>NaN</td>\n",
       "    </tr>\n",
       "    <tr>\n",
       "      <th>706</th>\n",
       "      <td>USA</td>\n",
       "      <td>NaN</td>\n",
       "      <td>NaN</td>\n",
       "    </tr>\n",
       "    <tr>\n",
       "      <th>724</th>\n",
       "      <td>EST</td>\n",
       "      <td>NaN</td>\n",
       "      <td>NaN</td>\n",
       "    </tr>\n",
       "    <tr>\n",
       "      <th>758</th>\n",
       "      <td>SVN</td>\n",
       "      <td>NaN</td>\n",
       "      <td>NaN</td>\n",
       "    </tr>\n",
       "    <tr>\n",
       "      <th>761</th>\n",
       "      <td>OAVG</td>\n",
       "      <td>NaN</td>\n",
       "      <td>NaN</td>\n",
       "    </tr>\n",
       "  </tbody>\n",
       "</table>\n",
       "<p>225 rows × 3 columns</p>\n",
       "</div>"
      ],
      "text/plain": [
       "        0 LOCATION  TIME\n",
       "508   AUS      NaN   NaN\n",
       "515   AUT      NaN   NaN\n",
       "521   BEL      NaN   NaN\n",
       "528   CAN      NaN   NaN\n",
       "542   DNK      NaN   NaN\n",
       "..    ...      ...   ...\n",
       "700   GBR      NaN   NaN\n",
       "706   USA      NaN   NaN\n",
       "724   EST      NaN   NaN\n",
       "758   SVN      NaN   NaN\n",
       "761  OAVG      NaN   NaN\n",
       "\n",
       "[225 rows x 3 columns]"
      ]
     },
     "execution_count": 1064,
     "metadata": {},
     "output_type": "execute_result"
    }
   ],
   "source": [
    "read"
   ]
  },
  {
   "cell_type": "code",
   "execution_count": 1065,
   "metadata": {},
   "outputs": [
    {
     "ename": "SyntaxError",
     "evalue": "invalid syntax (2153692870.py, line 5)",
     "output_type": "error",
     "traceback": [
      "\u001b[0;36m  Input \u001b[0;32mIn [1065]\u001b[0;36m\u001b[0m\n\u001b[0;31m    result =\u001b[0m\n\u001b[0m             ^\u001b[0m\n\u001b[0;31mSyntaxError\u001b[0m\u001b[0;31m:\u001b[0m invalid syntax\n"
     ]
    }
   ],
   "source": [
    "# 閱讀高於平均 且 數學高於平均的國家\n",
    "\n",
    "read = df.loc[read_aboveAvg][\"LOCATION\"].drop_duplicates()\n",
    "math = df.loc[math_aboveAvg][\"LOCATION\"].drop_duplicates()\n",
    "result = \n",
    "math_read = \n",
    "math_read = pd.concat([read,math], ignore_index = True).drop_duplicates().reset_index()"
   ]
  },
  {
   "cell_type": "code",
   "execution_count": null,
   "metadata": {},
   "outputs": [
    {
     "name": "stdout",
     "output_type": "stream",
     "text": [
      "30\n",
      "24\n",
      "29\n"
     ]
    }
   ],
   "source": [
    "print(len(math_read))\n",
    "print(len(read))\n",
    "print(len(math))\n",
    "#print(math_read)"
   ]
  },
  {
   "cell_type": "code",
   "execution_count": null,
   "metadata": {},
   "outputs": [],
   "source": [
    "# 閱讀高於平均 且 科學高於平均的國家\n",
    "for i in range(len(year)):\n",
    "    t = year[i]\n",
    "    read_aboveAvg = (df[\"TIME\"] == t) & (df['SUBJECT'] == \"TOT\") & (df['INDICATOR'] == \"PISAREAD\") & (df['Value'] > read_avg[t]) \n",
    "    science_aboveAvg = (df[\"TIME\"] == t) & (df['SUBJECT'] == \"TOT\") & (df['INDICATOR'] == \"PISASCIENCE\") & (df['Value'] > science_avg[t]) \n",
    "\n",
    "    read = df.loc[read_aboveAvg][\"LOCATION\"].drop_duplicates()\n",
    "    sci = df.loc[math_aboveAvg][\"LOCATION\"].drop_duplicates()\n",
    "    science_read = pd.concat([read,sci], ignore_index = True).drop_duplicates().reset_index()\n"
   ]
  },
  {
   "cell_type": "code",
   "execution_count": null,
   "metadata": {},
   "outputs": [
    {
     "name": "stdout",
     "output_type": "stream",
     "text": [
      "30\n"
     ]
    }
   ],
   "source": [
    "\n",
    "print(len(science_read))"
   ]
  },
  {
   "cell_type": "code",
   "execution_count": null,
   "metadata": {},
   "outputs": [
    {
     "name": "stdout",
     "output_type": "stream",
     "text": [
      "True\n"
     ]
    },
    {
     "name": "stderr",
     "output_type": "stream",
     "text": [
      "/var/folders/sq/xx3g0qlj6kd_4sm1gwbt57zm0000gn/T/ipykernel_4137/3497584938.py:4: DeprecationWarning: elementwise comparison failed; this will raise an error in the future.\n",
      "  print(math_read.iloc[0] in math_read.values)\n"
     ]
    },
    {
     "ename": "ValueError",
     "evalue": "('Lengths must match to compare', (2,), (30, 2))",
     "output_type": "error",
     "traceback": [
      "\u001b[0;31m---------------------------------------------------------------------------\u001b[0m",
      "\u001b[0;31mValueError\u001b[0m                                Traceback (most recent call last)",
      "\u001b[1;32m/Users/fifihsu/Documents/GitHub/LAT-Repo./W03/W3-hw1.ipynb Cell 52\u001b[0m in \u001b[0;36m<cell line: 4>\u001b[0;34m()\u001b[0m\n\u001b[1;32m      <a href='vscode-notebook-cell:/Users/fifihsu/Documents/GitHub/LAT-Repo./W03/W3-hw1.ipynb#Y116sZmlsZQ%3D%3D?line=0'>1</a>\u001b[0m \u001b[39m# 語法測試\u001b[39;00m\n\u001b[1;32m      <a href='vscode-notebook-cell:/Users/fifihsu/Documents/GitHub/LAT-Repo./W03/W3-hw1.ipynb#Y116sZmlsZQ%3D%3D?line=2'>3</a>\u001b[0m \u001b[39mprint\u001b[39m(\u001b[39m\"\u001b[39m\u001b[39mSVN\u001b[39m\u001b[39m\"\u001b[39m \u001b[39min\u001b[39;00m math_read\u001b[39m.\u001b[39mvalues)\n\u001b[0;32m----> <a href='vscode-notebook-cell:/Users/fifihsu/Documents/GitHub/LAT-Repo./W03/W3-hw1.ipynb#Y116sZmlsZQ%3D%3D?line=3'>4</a>\u001b[0m \u001b[39mprint\u001b[39m(math_read\u001b[39m.\u001b[39;49miloc[\u001b[39m0\u001b[39;49m] \u001b[39min\u001b[39;49;00m math_read\u001b[39m.\u001b[39;49mvalues)\n",
      "File \u001b[0;32m~/Documents/anaconda3/lib/python3.9/site-packages/pandas/core/ops/common.py:72\u001b[0m, in \u001b[0;36m_unpack_zerodim_and_defer.<locals>.new_method\u001b[0;34m(self, other)\u001b[0m\n\u001b[1;32m     68\u001b[0m             \u001b[39mreturn\u001b[39;00m \u001b[39mNotImplemented\u001b[39m\n\u001b[1;32m     70\u001b[0m other \u001b[39m=\u001b[39m item_from_zerodim(other)\n\u001b[0;32m---> 72\u001b[0m \u001b[39mreturn\u001b[39;00m method(\u001b[39mself\u001b[39;49m, other)\n",
      "File \u001b[0;32m~/Documents/anaconda3/lib/python3.9/site-packages/pandas/core/arraylike.py:42\u001b[0m, in \u001b[0;36mOpsMixin.__eq__\u001b[0;34m(self, other)\u001b[0m\n\u001b[1;32m     40\u001b[0m \u001b[39m@unpack_zerodim_and_defer\u001b[39m(\u001b[39m\"\u001b[39m\u001b[39m__eq__\u001b[39m\u001b[39m\"\u001b[39m)\n\u001b[1;32m     41\u001b[0m \u001b[39mdef\u001b[39;00m \u001b[39m__eq__\u001b[39m(\u001b[39mself\u001b[39m, other):\n\u001b[0;32m---> 42\u001b[0m     \u001b[39mreturn\u001b[39;00m \u001b[39mself\u001b[39;49m\u001b[39m.\u001b[39;49m_cmp_method(other, operator\u001b[39m.\u001b[39;49meq)\n",
      "File \u001b[0;32m~/Documents/anaconda3/lib/python3.9/site-packages/pandas/core/series.py:6243\u001b[0m, in \u001b[0;36mSeries._cmp_method\u001b[0;34m(self, other, op)\u001b[0m\n\u001b[1;32m   6240\u001b[0m rvalues \u001b[39m=\u001b[39m extract_array(other, extract_numpy\u001b[39m=\u001b[39m\u001b[39mTrue\u001b[39;00m, extract_range\u001b[39m=\u001b[39m\u001b[39mTrue\u001b[39;00m)\n\u001b[1;32m   6242\u001b[0m \u001b[39mwith\u001b[39;00m np\u001b[39m.\u001b[39merrstate(\u001b[39mall\u001b[39m\u001b[39m=\u001b[39m\u001b[39m\"\u001b[39m\u001b[39mignore\u001b[39m\u001b[39m\"\u001b[39m):\n\u001b[0;32m-> 6243\u001b[0m     res_values \u001b[39m=\u001b[39m ops\u001b[39m.\u001b[39;49mcomparison_op(lvalues, rvalues, op)\n\u001b[1;32m   6245\u001b[0m \u001b[39mreturn\u001b[39;00m \u001b[39mself\u001b[39m\u001b[39m.\u001b[39m_construct_result(res_values, name\u001b[39m=\u001b[39mres_name)\n",
      "File \u001b[0;32m~/Documents/anaconda3/lib/python3.9/site-packages/pandas/core/ops/array_ops.py:264\u001b[0m, in \u001b[0;36mcomparison_op\u001b[0;34m(left, right, op)\u001b[0m\n\u001b[1;32m    259\u001b[0m \u001b[39mif\u001b[39;00m \u001b[39misinstance\u001b[39m(rvalues, (np\u001b[39m.\u001b[39mndarray, ABCExtensionArray)):\n\u001b[1;32m    260\u001b[0m     \u001b[39m# TODO: make this treatment consistent across ops and classes.\u001b[39;00m\n\u001b[1;32m    261\u001b[0m     \u001b[39m#  We are not catching all listlikes here (e.g. frozenset, tuple)\u001b[39;00m\n\u001b[1;32m    262\u001b[0m     \u001b[39m#  The ambiguous case is object-dtype.  See GH#27803\u001b[39;00m\n\u001b[1;32m    263\u001b[0m     \u001b[39mif\u001b[39;00m \u001b[39mlen\u001b[39m(lvalues) \u001b[39m!=\u001b[39m \u001b[39mlen\u001b[39m(rvalues):\n\u001b[0;32m--> 264\u001b[0m         \u001b[39mraise\u001b[39;00m \u001b[39mValueError\u001b[39;00m(\n\u001b[1;32m    265\u001b[0m             \u001b[39m\"\u001b[39m\u001b[39mLengths must match to compare\u001b[39m\u001b[39m\"\u001b[39m, lvalues\u001b[39m.\u001b[39mshape, rvalues\u001b[39m.\u001b[39mshape\n\u001b[1;32m    266\u001b[0m         )\n\u001b[1;32m    268\u001b[0m \u001b[39mif\u001b[39;00m should_extension_dispatch(lvalues, rvalues) \u001b[39mor\u001b[39;00m (\n\u001b[1;32m    269\u001b[0m     (\u001b[39misinstance\u001b[39m(rvalues, (Timedelta, BaseOffset, Timestamp)) \u001b[39mor\u001b[39;00m right \u001b[39mis\u001b[39;00m NaT)\n\u001b[1;32m    270\u001b[0m     \u001b[39mand\u001b[39;00m \u001b[39mnot\u001b[39;00m is_object_dtype(lvalues\u001b[39m.\u001b[39mdtype)\n\u001b[1;32m    271\u001b[0m ):\n\u001b[1;32m    272\u001b[0m     \u001b[39m# Call the method on lvalues\u001b[39;00m\n\u001b[1;32m    273\u001b[0m     res_values \u001b[39m=\u001b[39m op(lvalues, rvalues)\n",
      "\u001b[0;31mValueError\u001b[0m: ('Lengths must match to compare', (2,), (30, 2))"
     ]
    }
   ],
   "source": [
    "# 語法測試\n",
    "\n",
    "print(\"SVN\" in math_read.values)\n",
    "print(math_read.iloc[0] in math_read.values)"
   ]
  },
  {
   "cell_type": "code",
   "execution_count": null,
   "metadata": {},
   "outputs": [
    {
     "name": "stdout",
     "output_type": "stream",
     "text": [
      "以下共 24 個國家的三科皆高於平均\n",
      "['AUS', 'AUT', 'BEL', 'CAN', 'CZE', 'DNK', 'FIN', 'FRA', 'DEU', 'IRL', 'JPN', 'KOR', 'NLD', 'NZL', 'NOR', 'POL', 'PRT', 'SWE', 'CHE', 'GBR', 'USA', 'EST', 'SVN', 'OAVG']\n",
      "\n",
      "為所有國家的 51.06 %\n"
     ]
    }
   ],
   "source": [
    "ans = []\n",
    "\n",
    "for i in range(len(math_read)):\n",
    "    if math_read.iloc[i] in science_read.values:\n",
    "        ans.append(math_read.iloc[i])\n",
    "\n",
    "print(\"以下共 {} 個國家的三科皆高於平均\".format(len(ans)))\n",
    "print(ans)\n",
    "n = len(ans)/len(allLocation)*100\n",
    "print(\"\\n為所有國家的 {:.2f} %\".format(n))\n"
   ]
  }
 ],
 "metadata": {
  "kernelspec": {
   "display_name": "base",
   "language": "python",
   "name": "python3"
  },
  "language_info": {
   "codemirror_mode": {
    "name": "ipython",
    "version": 3
   },
   "file_extension": ".py",
   "mimetype": "text/x-python",
   "name": "python",
   "nbconvert_exporter": "python",
   "pygments_lexer": "ipython3",
   "version": "3.9.12"
  },
  "orig_nbformat": 4
 },
 "nbformat": 4,
 "nbformat_minor": 2
}
