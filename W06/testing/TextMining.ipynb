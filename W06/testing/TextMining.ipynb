{
 "cells": [
  {
   "cell_type": "code",
   "execution_count": 1,
   "id": "98db756c",
   "metadata": {},
   "outputs": [],
   "source": [
    "import openai\n",
    "import pandas as pd"
   ]
  },
  {
   "cell_type": "code",
   "execution_count": 2,
   "id": "f92744a5",
   "metadata": {},
   "outputs": [],
   "source": [
    "with open('01.txt', 'r') as fh:\n",
    "    tmp = fh.read()\n",
    "    itemlist = tmp.split(',')"
   ]
  },
  {
   "cell_type": "code",
   "execution_count": 3,
   "id": "671f93dd",
   "metadata": {},
   "outputs": [],
   "source": [
    "itemlist = str(itemlist)"
   ]
  },
  {
   "cell_type": "code",
   "execution_count": 5,
   "id": "3adce0f1",
   "metadata": {},
   "outputs": [],
   "source": [
    "keyfile = open(\"key.txt\", \"r\")\n",
    "key = keyfile.readline()\n",
    "openai.api_key = key"
   ]
  },
  {
   "cell_type": "code",
   "execution_count": 6,
   "id": "0c6fcb13",
   "metadata": {},
   "outputs": [],
   "source": [
    "data = [itemlist[0:3200], itemlist[3201:6400], \n",
    "        itemlist[6401:9600], itemlist[9601:12800], itemlist[12801:16000]]"
   ]
  },
  {
   "cell_type": "code",
   "execution_count": 11,
   "id": "56642f40",
   "metadata": {},
   "outputs": [
    {
     "data": {
      "text/plain": [
       "\"['\\\\nBlockchain in education management: present and future applications \\\\nPreeti Bhaskar \\\\nUniversity of Technology and Applied Sciences', ' Ibra', ' Oman and ICFAI Business School', ' ICFAI University', ' Dehradun', ' India \\\\n\\\\nChandan Kumar Tiwari \\\\nSymbiosis Centre for Management Studies', ' Noida', ' India and Symbiosis International (Deemed University)', ' Pune', ' India', ' and \\\\n\\\\nAmit Joshi \\\\nICFAI Business School', ' ICFAI University', ' Dehradun', ' India \\\\nAbstract \\\\nPurpose – This paper aims to provide a systematic literature review on blockchain technology in education to offer a detailed understanding of the present scenario in terms of bene.ts', ' barriers', ' present blockchain technology application and future areas where blockchain technology can be implemented in the other .elds of education. \\\\nDesign/methodology/approach – A bibliometric analysis is conducted on for data in the publications', ' journals', ' authors and citations were collected', ' and examined by applying bibliometric measures. The data was collected from SCOPUS database on the topic “Blockchain Technology in Education”. The following research questions guided this systematic literature review (SLR: How blockchain technology has been de.ned in educational settings? How were the technology examined (i.e. the methodology)? What were the results of using this technology in an education system? \\\\nFindings – The study identi.es the bene.ts', ' barriers and present application of blockchain technology in education. The analysis shows that blockchain technology in education is still a young discipline', ' but has a lot of potential to bene.ts the educational sector at large. \\\\nPractical implications – This research provides a groundwork for education institutions', ' the policymakers and researchers to explore other areas where blockchain technology can be implemented', ' though this research has also suggested some prospective uses of blockchain technology in different functions of an education system', ' more application can be brought into the education system to exploit the potential of blockchain technology. \\\\nOriginality/value – The paper discusses the application of blockchain technology in education with the help of bibliometric analysis. This is one of the .rst known studies to review the blockchain technology by identifying its bene.ts', ' barriers', ' present blockchain technology application. Based on the analysis', ' future application areas are also identi.ed. \\\\nKeywords Systematic review', ' Education', ' Blockchain technology', ' Blockchain application \\\\nPaper type Literature review \\\\n1. Introduction \\\\nBlockchain was .rst used to a peer-to-peer ledger for record-keeping of the transactions of Bitcoin cryptocurrency. A blockchain transaction in the public ledger contains a veri.able record and once the information entered', ' it cannot be altered or erased in the future. The \\\\nBlockchain in education management \\\\nReceived 4 July 2020 Revised 19 September 2020 Accepted 10 October 2020 \\\\n\\\\nInteractive Technology and Smart Education Vol. 18 No. 1', ' 2021 pp. 1-17 © Emerald Publishing Limited 1741-5659 DOI 10.1108/ITSE-07-2020-0102 \\\\n\\\\nBlockchain tech\""
      ]
     },
     "execution_count": 11,
     "metadata": {},
     "output_type": "execute_result"
    }
   ],
   "source": [
    "data[0]"
   ]
  },
  {
   "cell_type": "code",
   "execution_count": 12,
   "id": "bb7c5fca",
   "metadata": {},
   "outputs": [],
   "source": [
    "def chatgptfn(sub_list):\n",
    "    result = ''\n",
    "    response = openai.ChatCompletion.create(\n",
    "        model=\"gpt-3.5-turbo\",\n",
    "        messages=[\n",
    "            {\"role\": \"system\", \"content\": \"You are an assistant\"},\n",
    "            {\"role\": \"user\", \"content\": f\"{sub_list} :give me a summary\"}\n",
    "        ]\n",
    "    )\n",
    "    for choice in response.choices:\n",
    "        result += choice.message.content\n",
    "    return result"
   ]
  },
  {
   "cell_type": "code",
   "execution_count": 13,
   "id": "8cc8e09c",
   "metadata": {},
   "outputs": [],
   "source": [
    "data[0] = chatgptfn(data[0])"
   ]
  },
  {
   "cell_type": "code",
   "execution_count": 14,
   "id": "86e96e47",
   "metadata": {},
   "outputs": [
    {
     "data": {
      "text/plain": [
       "'This paper provides a literature review on the application of blockchain technology in education. The study examines the benefits and barriers associated with blockchain technology, as well as its current applications in the educational sector. Additionally, the paper identifies potential future areas in which blockchain technology can be implemented. The research is based on bibliometric analysis and provides a foundation for educators, policymakers, and researchers to explore the potential of blockchain technology in education.'"
      ]
     },
     "execution_count": 14,
     "metadata": {},
     "output_type": "execute_result"
    }
   ],
   "source": [
    "data[0]"
   ]
  },
  {
   "cell_type": "code",
   "execution_count": 15,
   "id": "04a5e3f4",
   "metadata": {},
   "outputs": [],
   "source": [
    "data[1] = chatgptfn(data[1])"
   ]
  },
  {
   "cell_type": "code",
   "execution_count": 9,
   "id": "5b2c6471",
   "metadata": {},
   "outputs": [],
   "source": [
    "data[2] = chatgptfn(data[2])\n",
    "data[3] = chatgptfn(data[3])"
   ]
  },
  {
   "cell_type": "code",
   "execution_count": 18,
   "id": "e3c0e641",
   "metadata": {},
   "outputs": [],
   "source": [
    "for i in range(0,5):\n",
    "    data[i] = chatgptfn(data[i])"
   ]
  },
  {
   "cell_type": "code",
   "execution_count": 19,
   "id": "775265fa",
   "metadata": {},
   "outputs": [],
   "source": [
    "import gensim\n",
    "from gensim import corpora\n",
    "from pprint import pprint"
   ]
  },
  {
   "cell_type": "code",
   "execution_count": 20,
   "id": "d905021c",
   "metadata": {},
   "outputs": [],
   "source": [
    "# 創建詞袋\n",
    "texts = [[word for word in document.lower().split()] for document in data]\n",
    "dictionary = corpora.Dictionary(texts)\n",
    "corpus = [dictionary.doc2bow(text) for text in texts]"
   ]
  },
  {
   "cell_type": "code",
   "execution_count": 21,
   "id": "911dea5e",
   "metadata": {},
   "outputs": [],
   "source": [
    "# 訓練 LDA 模型\n",
    "lda_model = gensim.models.ldamodel.LdaModel(corpus=corpus, id2word=dictionary, \n",
    "                                            num_topics=3, random_state=100, update_every=1, \n",
    "                                            chunksize=100, passes=10, alpha='auto', per_word_topics=True)"
   ]
  },
  {
   "cell_type": "code",
   "execution_count": 22,
   "id": "9b194905",
   "metadata": {},
   "outputs": [
    {
     "name": "stderr",
     "output_type": "stream",
     "text": [
      "C:\\Users\\pecu6\\anaconda3\\lib\\site-packages\\pyLDAvis\\_prepare.py:243: FutureWarning: In a future version of pandas all arguments of DataFrame.drop except for the argument 'labels' will be keyword-only.\n",
      "  default_term_info = default_term_info.sort_values(\n"
     ]
    },
    {
     "data": {
      "text/html": [
       "\n",
       "<link rel=\"stylesheet\" type=\"text/css\" href=\"https://cdn.jsdelivr.net/gh/bmabey/pyLDAvis@3.4.0/pyLDAvis/js/ldavis.v1.0.0.css\">\n",
       "\n",
       "\n",
       "<div id=\"ldavis_el2025621559371488167661412142\" style=\"background-color:white;\"></div>\n",
       "<script type=\"text/javascript\">\n",
       "\n",
       "var ldavis_el2025621559371488167661412142_data = {\"mdsDat\": {\"x\": [-0.06863207734109113, -0.018312761941880036, 0.0869448392829712], \"y\": [0.04251378728535704, -0.06283787453732614, 0.02032408725196915], \"topics\": [1, 2, 3], \"cluster\": [1, 1, 1], \"Freq\": [46.20988939712052, 33.33049375813877, 20.459616844740705]}, \"tinfo\": {\"Term\": [\"a\", \"the\", \"is\", \"its\", \"sectors\", \"decentralized\", \"through\", \"it\", \"articles\", \"has\", \"be\", \"education\", \"database,\", \"analysis\", \"applied\", \"promising\", \"predicted\", \"due\", \"gdp\", \"being\", \"global\", \"trusted,\", \"transfer\", \"though\", \"potential,\", \"cybersecurity\", \"by\", \"benefits.\", \"enables\", \"reliability.\", \"article\", \"sector.\", \"education\", \"management\", \"use\", \"benefits\", \"universities.\", \"research\", \"publications\", \"smart\", \"adoption.\", \"further\", \"online\", \"area\", \"discusses\", \"learning\", \"schools\", \"activities,\", \"studies\", \"credentials\", \"different\", \"tremendous\", \"shows\", \"contracts,\", \"quantitative\", \"user\", \"school\", \"qualitative\", \"sciences,\", \"field\", \"of\", \"systematic\", \"study\", \"potential\", \"the\", \"for\", \"and\", \"in\", \"need\", \"literature\", \"paper\", \"technology\", \"to\", \"explores\", \"blockchain\", \"that\", \"education,\", \"education.\", \"review\", \"it\", \"a\", \"is\", \"articles\", \"database,\", \"analysis\", \"applied\", \"inclusion\", \"retrieved.\", \"academic\", \"36\", \"blockchain,\", \"scopus\", \"lacking\", \"areas,\", \"documents\", \"then\", \"examine\", \"keywords\", \"utilized\", \"stages:\", \"criteria.\", \"stage\", \"conducted\", \"methodology,\", \"along\", \"examination,\", \"immature\", \"selection\", \"search\", \"policymakers,\", \"can\", \"challenges\", \"including\", \"204\", \"be\", \"review\", \"education.\", \"the\", \"involved\", \"using\", \"on\", \"were\", \"in\", \"is\", \"and\", \"blockchain\", \"technology\", \"of\", \"paper\", \"literature\", \"its\", \"a\", \"to\", \"for\", \"research\", \"education\", \"that\", \"it\", \"systematic\", \"potential\", \"sectors\", \"decentralized\", \"through\", \"promising\", \"predicted\", \"due\", \"gdp\", \"being\", \"global\", \"transfer\", \"trusted,\", \"though\", \"potential,\", \"cybersecurity\", \"by\", \"benefits.\", \"enables\", \"reliability.\", \"third-party\", \"intermediary.\", \"strong\", \"credit\", \"enhance\", \"explored\", \"systems.\", \"without\", \"globally\", \"generations,\", \"system\", \"technologies.\", \"facilitated\", \"a\", \"its\", \"it\", \"is\", \"has\", \"and\", \"blockchain\", \"for\", \"technology\", \"that\", \"in\", \"to\", \"the\", \"of\", \"be\", \"as\", \"with\", \"uses\"], \"Freq\": [5.0, 31.0, 5.0, 4.0, 1.0, 1.0, 1.0, 4.0, 2.0, 3.0, 2.0, 5.0, 2.0, 2.0, 2.0, 1.0, 1.0, 1.0, 1.0, 1.0, 1.0, 1.0, 1.0, 1.0, 1.0, 1.0, 1.0, 1.0, 1.0, 1.0, 2.4685985463711964, 2.4652232461599537, 4.689686741813721, 1.7269619913151883, 1.7265209345149983, 1.7262838181981524, 1.7254850986450005, 3.2052924703147196, 0.9881762856230052, 0.9881034578515158, 0.9880987996009213, 0.9878899736352466, 0.9878986084412266, 0.9878352107867944, 0.9878318023107496, 0.987783288335046, 0.987772494827571, 0.9877245489312083, 0.9877152324300194, 0.9876922820246514, 0.9876343379318907, 0.9876383144872762, 0.9876463812139155, 0.9875836652546922, 0.9875768483026027, 0.9875628735508192, 0.9875236760763046, 0.987518904209842, 0.987515268502061, 0.9875164046607425, 9.875229489347484, 2.4670333741714496, 2.4660765013298214, 2.465683390425994, 19.511322117249552, 5.44644431914703, 11.38473900296632, 9.14410592418802, 1.733334818976048, 2.4703911775389957, 2.4637741893774643, 4.7074289957853, 3.217662966039781, 1.725695969696302, 4.699579048222516, 2.4792468527667157, 1.7361782833084425, 1.729071497139281, 1.7282961824549699, 1.740025998299487, 1.7426251885153412, 1.0052455928074835, 2.240704418090179, 1.5686173443524056, 1.5673174628754458, 1.5671470081110985, 0.8969246111559974, 0.8968220924491712, 0.8967734145020452, 0.8965565763739379, 0.8963075321292979, 0.8964901154057238, 0.8964709392447346, 0.8964419291550332, 0.8964305381876081, 0.8964245558809748, 0.8964234905386976, 0.8964199667142423, 0.896169939076731, 0.8964117717736487, 0.8963856299131551, 0.8963765335290962, 0.8963705512224628, 0.8963493263263254, 0.8960494734500049, 0.8962774566973193, 0.8962771288996956, 0.8962693437061316, 0.8962665574263298, 0.8959960424373344, 0.8959537565438713, 0.8959467088949609, 0.8962218130506886, 0.8962132083630653, 1.5685537516133992, 2.2471480998789417, 2.240934859819671, 10.371707593501698, 1.5700775188673768, 1.569648103980271, 1.5694894499303786, 1.5691442790325754, 6.305045684157288, 2.244675358504223, 5.64100178071334, 3.611995787888824, 2.9248864046500747, 3.6123199797387073, 1.577865498711117, 1.5750079229261218, 1.5752627855785835, 1.5753131025138283, 1.581826441297637, 1.5894423273889111, 0.9076202378717597, 0.9078796077415477, 0.9065557970380546, 0.9048257631293355, 0.9047151314313217, 0.9039921737721526, 1.3052248369876585, 1.304895748948218, 1.30441454194955, 0.7468183719816451, 0.7467948297617647, 0.7464954713205068, 0.7464712248461854, 0.7463760498888908, 0.7462900302393276, 0.7462435997501189, 0.7462629164433542, 0.746198024427017, 0.7461810720165475, 0.7461855993665245, 0.7461425895417428, 0.7461179406363124, 0.746091782614223, 0.746086299490362, 0.7460703531576651, 0.7460566704999568, 0.746026035431779, 0.7460071714735415, 0.7459789006881294, 0.7459445431321928, 0.74592955257338, 0.7458992696324226, 0.7458770353136467, 0.7458648114687088, 0.7458277375027859, 0.7458577186204114, 0.7458738661686627, 2.426506462642552, 1.8635135908942693, 1.8633421552418064, 1.8638462002059137, 1.3026314703130475, 3.537402448057953, 2.4225889970113306, 1.8579946506645117, 1.8653867064914258, 1.3017193602043449, 1.8683206304920854, 1.3032914573319188, 1.303914018257647, 0.750258302798069, 0.7498741823044638, 0.7479259630015773, 0.747645468518557, 0.7474375625468348], \"Total\": [5.0, 31.0, 5.0, 4.0, 1.0, 1.0, 1.0, 4.0, 2.0, 3.0, 2.0, 5.0, 2.0, 2.0, 2.0, 1.0, 1.0, 1.0, 1.0, 1.0, 1.0, 1.0, 1.0, 1.0, 1.0, 1.0, 1.0, 1.0, 1.0, 1.0, 2.8855959733805747, 2.8854830819249937, 5.785640767742058, 2.1435178015257073, 2.143523657468453, 2.143502236922117, 2.1433621540695738, 4.30105850759124, 1.4015584820397164, 1.4015391200562657, 1.4015550736596076, 1.4015040706149762, 1.4015230515384431, 1.401517402510397, 1.4015179470300831, 1.4015025552006226, 1.4015072618577538, 1.4014837930952444, 1.4015099814793879, 1.4015043250490027, 1.4014724712862117, 1.4014822654013286, 1.401502354990225, 1.4014777936625862, 1.401495673572701, 1.4014918938226, 1.4014724978438857, 1.4014703052565018, 1.4014760949797886, 1.401487786508708, 14.237807771884261, 3.559263343332402, 3.558764933450352, 3.558816613463549, 31.1869437290089, 8.893881297200453, 20.563143231737612, 17.317472238837393, 2.707709192173871, 4.233159974514055, 4.232028726527092, 9.4977021069268, 6.102780864669337, 2.8167988402723663, 10.734163833122672, 4.687522010009115, 3.381551280281286, 4.163465554904514, 4.164303667550882, 4.508193916670629, 5.744444753671722, 5.113767151517621, 2.680837723649598, 2.0070459363457664, 2.0066388100082078, 2.0067492060449976, 1.3332119620664888, 1.3332226129968687, 1.3332274407553621, 1.333249847058771, 1.3329662224442234, 1.3332562997332575, 1.3332583064276344, 1.3332609032442755, 1.3332622934027079, 1.3332633134134593, 1.3332631247050917, 1.33326353732032, 1.3328963950409927, 1.3332639594243099, 1.3332670109749332, 1.3332675725989782, 1.333268572665474, 1.333270506553615, 1.3328613894037482, 1.3332780318572197, 1.333278079383094, 1.333278292418765, 1.3332791162404167, 1.3329008628631247, 1.3328632014340898, 1.3328622585442924, 1.3332836226151472, 1.3332845471288104, 2.5695825422216756, 4.164303667550882, 4.163465554904514, 31.1869437290089, 2.749154228578657, 2.7487163514433037, 2.7488379312549034, 2.7491695046744944, 17.317472238837393, 5.113767151517621, 20.563143231737612, 10.734163833122672, 9.4977021069268, 14.237807771884261, 4.232028726527092, 4.233159974514055, 4.439807502266877, 5.744444753671722, 6.102780864669337, 8.893881297200453, 4.30105850759124, 5.785640767742058, 4.687522010009115, 4.508193916670629, 3.559263343332402, 3.558816613463549, 1.7863929471838471, 1.7864906231993727, 1.7867218376996528, 1.2228044205125692, 1.222798822546603, 1.2229357663285723, 1.2229503603545773, 1.222945310457829, 1.222942659052869, 1.2229614324974971, 1.2229938238071876, 1.222977032730146, 1.2229684776885417, 1.2230228844632385, 1.2230275173420548, 1.2230247100434637, 1.2230004642498036, 1.223031536024395, 1.2230534321662165, 1.2230527203604613, 1.2230580938629216, 1.2230464763406932, 1.2230399414893693, 1.2230601615407093, 1.2230863537805856, 1.2230887169402673, 1.2230590321567942, 1.2230875517621642, 1.2230532837973092, 1.2231033425241358, 1.223134429645596, 5.744444753671722, 4.439807502266877, 4.508193916670629, 5.113767151517621, 3.2032808326839453, 20.563143231737612, 10.734163833122672, 8.893881297200453, 9.4977021069268, 4.687522010009115, 17.317472238837393, 6.102780864669337, 31.1869437290089, 14.237807771884261, 2.5695825422216756, 1.8962625444428982, 2.6383129839200823, 1.8964941953341965], \"Category\": [\"Default\", \"Default\", \"Default\", \"Default\", \"Default\", \"Default\", \"Default\", \"Default\", \"Default\", \"Default\", \"Default\", \"Default\", \"Default\", \"Default\", \"Default\", \"Default\", \"Default\", \"Default\", \"Default\", \"Default\", \"Default\", \"Default\", \"Default\", \"Default\", \"Default\", \"Default\", \"Default\", \"Default\", \"Default\", \"Default\", \"Topic1\", \"Topic1\", \"Topic1\", \"Topic1\", \"Topic1\", \"Topic1\", \"Topic1\", \"Topic1\", \"Topic1\", \"Topic1\", \"Topic1\", \"Topic1\", \"Topic1\", \"Topic1\", \"Topic1\", \"Topic1\", \"Topic1\", \"Topic1\", \"Topic1\", \"Topic1\", \"Topic1\", \"Topic1\", \"Topic1\", \"Topic1\", \"Topic1\", \"Topic1\", \"Topic1\", \"Topic1\", \"Topic1\", \"Topic1\", \"Topic1\", \"Topic1\", \"Topic1\", \"Topic1\", \"Topic1\", \"Topic1\", \"Topic1\", \"Topic1\", \"Topic1\", \"Topic1\", \"Topic1\", \"Topic1\", \"Topic1\", \"Topic1\", \"Topic1\", \"Topic1\", \"Topic1\", \"Topic1\", \"Topic1\", \"Topic1\", \"Topic1\", \"Topic1\", \"Topic2\", \"Topic2\", \"Topic2\", \"Topic2\", \"Topic2\", \"Topic2\", \"Topic2\", \"Topic2\", \"Topic2\", \"Topic2\", \"Topic2\", \"Topic2\", \"Topic2\", \"Topic2\", \"Topic2\", \"Topic2\", \"Topic2\", \"Topic2\", \"Topic2\", \"Topic2\", \"Topic2\", \"Topic2\", \"Topic2\", \"Topic2\", \"Topic2\", \"Topic2\", \"Topic2\", \"Topic2\", \"Topic2\", \"Topic2\", \"Topic2\", \"Topic2\", \"Topic2\", \"Topic2\", \"Topic2\", \"Topic2\", \"Topic2\", \"Topic2\", \"Topic2\", \"Topic2\", \"Topic2\", \"Topic2\", \"Topic2\", \"Topic2\", \"Topic2\", \"Topic2\", \"Topic2\", \"Topic2\", \"Topic2\", \"Topic2\", \"Topic2\", \"Topic2\", \"Topic2\", \"Topic2\", \"Topic2\", \"Topic2\", \"Topic2\", \"Topic2\", \"Topic3\", \"Topic3\", \"Topic3\", \"Topic3\", \"Topic3\", \"Topic3\", \"Topic3\", \"Topic3\", \"Topic3\", \"Topic3\", \"Topic3\", \"Topic3\", \"Topic3\", \"Topic3\", \"Topic3\", \"Topic3\", \"Topic3\", \"Topic3\", \"Topic3\", \"Topic3\", \"Topic3\", \"Topic3\", \"Topic3\", \"Topic3\", \"Topic3\", \"Topic3\", \"Topic3\", \"Topic3\", \"Topic3\", \"Topic3\", \"Topic3\", \"Topic3\", \"Topic3\", \"Topic3\", \"Topic3\", \"Topic3\", \"Topic3\", \"Topic3\", \"Topic3\", \"Topic3\", \"Topic3\", \"Topic3\", \"Topic3\", \"Topic3\", \"Topic3\", \"Topic3\", \"Topic3\", \"Topic3\", \"Topic3\"], \"logprob\": [30.0, 29.0, 28.0, 27.0, 26.0, 25.0, 24.0, 23.0, 22.0, 21.0, 20.0, 19.0, 18.0, 17.0, 16.0, 15.0, 14.0, 13.0, 12.0, 11.0, 10.0, 9.0, 8.0, 7.0, 6.0, 5.0, 4.0, 3.0, 2.0, 1.0, -4.5935, -4.5948, -3.9518, -4.9508, -4.951, -4.9511, -4.9516, -4.3323, -5.509, -5.5091, -5.5091, -5.5093, -5.5093, -5.5094, -5.5094, -5.5094, -5.5094, -5.5095, -5.5095, -5.5095, -5.5096, -5.5096, -5.5096, -5.5096, -5.5096, -5.5096, -5.5097, -5.5097, -5.5097, -5.5097, -3.2071, -4.5941, -4.5945, -4.5947, -2.5261, -3.8022, -3.0648, -3.284, -4.9471, -4.5927, -4.5954, -3.948, -4.3285, -4.9515, -3.9496, -4.5892, -4.9454, -4.9495, -4.95, -4.9432, -4.9417, -5.4919, -4.3636, -4.7202, -4.721, -4.7211, -5.2792, -5.2793, -5.2794, -5.2796, -5.2799, -5.2797, -5.2797, -5.2797, -5.2797, -5.2797, -5.2797, -5.2797, -5.28, -5.2798, -5.2798, -5.2798, -5.2798, -5.2798, -5.2802, -5.2799, -5.2799, -5.2799, -5.2799, -5.2802, -5.2803, -5.2803, -5.28, -5.28, -4.7202, -4.3607, -4.3635, -2.8313, -4.7193, -4.7195, -4.7196, -4.7199, -3.329, -4.3618, -3.4403, -3.8861, -4.0971, -3.886, -4.7143, -4.7161, -4.716, -4.7159, -4.7118, -4.707, -5.2673, -5.267, -5.2685, -5.2704, -5.2705, -5.2713, -4.416, -4.4163, -4.4166, -4.9743, -4.9743, -4.9747, -4.9748, -4.9749, -4.975, -4.9751, -4.9751, -4.9751, -4.9752, -4.9752, -4.9752, -4.9753, -4.9753, -4.9753, -4.9753, -4.9753, -4.9754, -4.9754, -4.9754, -4.9755, -4.9755, -4.9755, -4.9756, -4.9756, -4.9756, -4.9756, -4.9756, -3.7959, -4.0599, -4.06, -4.0597, -4.418, -3.419, -3.7975, -4.0629, -4.0589, -4.4187, -4.0573, -4.4175, -4.417, -4.9697, -4.9702, -4.9728, -4.9732, -4.9735], \"loglift\": [30.0, 29.0, 28.0, 27.0, 26.0, 25.0, 24.0, 23.0, 22.0, 21.0, 20.0, 19.0, 18.0, 17.0, 16.0, 15.0, 14.0, 13.0, 12.0, 11.0, 10.0, 9.0, 8.0, 7.0, 6.0, 5.0, 4.0, 3.0, 2.0, 1.0, 0.6159, 0.6146, 0.562, 0.5559, 0.5556, 0.5555, 0.5551, 0.4779, 0.4225, 0.4224, 0.4224, 0.4222, 0.4222, 0.4222, 0.4222, 0.4221, 0.4221, 0.4221, 0.4221, 0.422, 0.422, 0.422, 0.422, 0.422, 0.4219, 0.4219, 0.4219, 0.4219, 0.4219, 0.4219, 0.4061, 0.4054, 0.4052, 0.405, 0.303, 0.2816, 0.1807, 0.1334, 0.3259, 0.2334, 0.231, 0.0701, 0.1319, 0.282, -0.054, 0.135, 0.1053, -0.1068, -0.1074, -0.18, -0.4209, -0.8547, 0.9194, 0.8522, 0.8516, 0.8514, 0.7023, 0.7022, 0.7021, 0.7019, 0.7018, 0.7018, 0.7018, 0.7017, 0.7017, 0.7017, 0.7017, 0.7017, 0.7017, 0.7017, 0.7017, 0.7017, 0.7017, 0.7016, 0.7016, 0.7016, 0.7016, 0.7015, 0.7015, 0.7015, 0.7015, 0.7015, 0.7015, 0.7015, 0.6051, 0.4818, 0.4792, -0.0022, 0.5385, 0.5384, 0.5383, 0.5379, 0.0883, 0.2753, -0.1947, 0.0095, -0.0791, -0.2729, 0.1121, 0.11, 0.0625, -0.1951, -0.2515, -0.6233, -0.4571, -0.7533, -0.5443, -0.5072, -0.271, -0.2717, 1.2729, 1.2726, 1.2721, 1.0936, 1.0936, 1.0931, 1.0931, 1.0929, 1.0928, 1.0927, 1.0927, 1.0927, 1.0926, 1.0926, 1.0925, 1.0925, 1.0925, 1.0925, 1.0924, 1.0924, 1.0924, 1.0924, 1.0923, 1.0923, 1.0922, 1.0922, 1.0922, 1.0921, 1.0921, 1.0921, 1.0921, 0.7249, 0.7186, 0.7032, 0.5774, 0.6869, -0.1734, 0.0981, 0.0209, -0.0409, 0.3055, -0.64, 0.0429, -1.5879, -1.3565, 0.3551, 0.6564, 0.3258, 0.6556]}, \"token.table\": {\"Topic\": [2, 2, 1, 2, 3, 2, 1, 1, 2, 2, 1, 2, 3, 2, 1, 2, 1, 2, 2, 3, 2, 3, 3, 1, 3, 1, 2, 3, 2, 3, 2, 2, 2, 1, 1, 3, 2, 3, 2, 3, 1, 1, 2, 3, 1, 2, 1, 2, 3, 1, 2, 3, 3, 2, 2, 3, 1, 2, 3, 1, 1, 2, 3, 1, 3, 3, 3, 3, 1, 2, 3, 2, 1, 2, 3, 2, 2, 3, 1, 2, 1, 2, 3, 1, 2, 3, 1, 2, 3, 2, 2, 1, 1, 2, 1, 2, 1, 3, 1, 2, 3, 1, 2, 1, 1, 2, 2, 1, 2, 3, 3, 3, 1, 1, 1, 3, 1, 2, 2, 1, 2, 1, 1, 1, 2, 2, 1, 3, 2, 1, 1, 2, 2, 3, 1, 1, 2, 3, 1, 2, 3, 3, 1, 2, 3, 1, 2, 3, 1, 2, 3, 2, 3, 3, 3, 1, 2, 3, 3, 1, 3, 1, 1, 1, 2, 3, 1, 2, 2, 1, 2, 1, 2, 3, 3], \"Freq\": [0.7500274432441829, 0.7500469639700764, 0.3481624570802329, 0.3481624570802329, 0.3481624570802329, 0.7500595693060693, 0.7135294784904018, 0.7134931896674562, 0.7502655624583342, 0.9966915769917852, 0.5349376734886695, 0.2917841855392743, 0.1945227903595162, 0.9966367466225143, 0.7135123675302217, 0.7500407441384213, 0.6930977234685185, 0.7460354583780142, 0.5273531362682636, 0.5273531362682636, 0.7783365457763379, 0.38916827288816896, 0.8176980535831436, 0.933052443589621, 0.8176449680762886, 0.46580246749834187, 0.3726419739986735, 0.18632098699933675, 0.7502065567470476, 0.8176430912799497, 0.7502645424707152, 0.7502650732208193, 0.750036429645077, 0.7135325329605299, 0.7135190253266152, 0.8176304166232182, 0.7500373081823751, 0.8176461885575272, 0.996489399560732, 0.5597566463624253, 0.7135352427452554, 0.7135120903154124, 0.7500399620901549, 0.817704435125111, 0.864208512197575, 0.17284170243951502, 0.5914445277416094, 0.2957222638708047, 0.2957222638708047, 0.4803690516051041, 0.4803690516051041, 0.8176611777603915, 0.8176347853220883, 0.750031108370568, 0.7500394944330234, 0.8176212679025399, 0.710025853250711, 0.3550129266253555, 0.8175716223520506, 0.7135274453522942, 0.5621842515003951, 0.22487370060015804, 0.22487370060015804, 0.7135191548613931, 0.8176946770840838, 0.8176029578252589, 0.8176998263961688, 0.8176220229015091, 0.3121799343338018, 0.3121799343338018, 0.3121799343338018, 0.750031081635047, 0.5197063333421121, 0.3464708888947415, 0.11549029629824716, 0.7500279633215373, 0.7500682775527998, 0.8176262423955669, 0.3637482355862628, 0.7274964711725256, 0.19555055409654865, 0.3911011081930973, 0.3911011081930973, 0.4436366396317377, 0.22181831981586886, 0.4436366396317377, 0.22523499036600572, 0.45046998073201144, 0.45046998073201144, 0.7500392623125846, 0.750042205009339, 0.713519926374199, 0.47246029255711974, 0.47246029255711974, 0.9330456684691144, 0.7500353417288969, 0.7386317577163114, 0.3693158788581557, 0.7023553176316398, 0.2809421270526559, 0.07023553176316398, 0.36379009057965034, 0.7275801811593007, 0.7135094916222079, 0.47258658417502036, 0.47258658417502036, 0.7502433435686731, 0.5619845631926336, 0.2809922815963168, 0.8176825635686369, 0.817796011544563, 0.8177922676962722, 0.7134914545589848, 0.7135363455431734, 0.7135234299017092, 0.8176404046379828, 0.6975027181576556, 0.2325009060525519, 0.7500622853614535, 0.4802723719656697, 0.4802723719656697, 0.7135352292238796, 0.7135175301728085, 0.7135333978097012, 0.7500433339036676, 0.7500304983549146, 0.6931248401795304, 0.5597872526178781, 0.7500309617925688, 0.7135200283034663, 0.7135013113011461, 0.7500369922375523, 0.7500390248543057, 0.8176226501568603, 0.7135161455963609, 0.5619927242738472, 0.2809963621369236, 0.8176258657310675, 0.5619140274480159, 0.28095701372400794, 0.8176037586462959, 0.817592402238298, 0.526443127370086, 0.3158658764220516, 0.21057725094803442, 0.4266646632761328, 0.2133323316380664, 0.2133323316380664, 0.6412940034709707, 0.3206470017354853, 0.03206470017354853, 0.750039388273402, 0.8176257665446762, 0.8176768436669845, 0.5596842098753705, 0.4915791778413376, 0.3277194518942251, 0.16385972594711254, 0.8176872740441441, 0.7135302562773707, 0.8176656173838994, 0.9331134247204217, 0.9330431194596855, 0.7135253542369611, 0.5272887217162201, 0.5272887217162201, 0.36380618155631705, 0.7276123631126341, 0.75024585835814, 0.36374621437480315, 0.7274924287496063, 0.37903008706501945, 0.37903008706501945, 0.37903008706501945, 0.8176021789340385], \"Term\": [\"204\", \"36\", \"a\", \"a\", \"a\", \"academic\", \"activities,\", \"adoption.\", \"along\", \"analysis\", \"and\", \"and\", \"and\", \"applied\", \"area\", \"areas,\", \"article\", \"articles\", \"as\", \"as\", \"be\", \"be\", \"being\", \"benefits\", \"benefits.\", \"blockchain\", \"blockchain\", \"blockchain\", \"blockchain,\", \"by\", \"can\", \"challenges\", \"conducted\", \"contracts,\", \"credentials\", \"credit\", \"criteria.\", \"cybersecurity\", \"database,\", \"decentralized\", \"different\", \"discusses\", \"documents\", \"due\", \"education\", \"education\", \"education,\", \"education,\", \"education,\", \"education.\", \"education.\", \"enables\", \"enhance\", \"examination,\", \"examine\", \"explored\", \"explores\", \"explores\", \"facilitated\", \"field\", \"for\", \"for\", \"for\", \"further\", \"gdp\", \"generations,\", \"global\", \"globally\", \"has\", \"has\", \"has\", \"immature\", \"in\", \"in\", \"in\", \"including\", \"inclusion\", \"intermediary.\", \"involved\", \"involved\", \"is\", \"is\", \"is\", \"it\", \"it\", \"it\", \"its\", \"its\", \"its\", \"keywords\", \"lacking\", \"learning\", \"literature\", \"literature\", \"management\", \"methodology,\", \"need\", \"need\", \"of\", \"of\", \"of\", \"on\", \"on\", \"online\", \"paper\", \"paper\", \"policymakers,\", \"potential\", \"potential\", \"potential,\", \"predicted\", \"promising\", \"publications\", \"qualitative\", \"quantitative\", \"reliability.\", \"research\", \"research\", \"retrieved.\", \"review\", \"review\", \"school\", \"schools\", \"sciences,\", \"scopus\", \"search\", \"sector.\", \"sectors\", \"selection\", \"shows\", \"smart\", \"stage\", \"stages:\", \"strong\", \"studies\", \"study\", \"study\", \"system\", \"systematic\", \"systematic\", \"systems.\", \"technologies.\", \"technology\", \"technology\", \"technology\", \"that\", \"that\", \"that\", \"the\", \"the\", \"the\", \"then\", \"third-party\", \"though\", \"through\", \"to\", \"to\", \"to\", \"transfer\", \"tremendous\", \"trusted,\", \"universities.\", \"use\", \"user\", \"uses\", \"uses\", \"using\", \"using\", \"utilized\", \"were\", \"were\", \"with\", \"with\", \"with\", \"without\"]}, \"R\": 30, \"lambda.step\": 0.01, \"plot.opts\": {\"xlab\": \"PC1\", \"ylab\": \"PC2\"}, \"topic.order\": [3, 1, 2]};\n",
       "\n",
       "function LDAvis_load_lib(url, callback){\n",
       "  var s = document.createElement('script');\n",
       "  s.src = url;\n",
       "  s.async = true;\n",
       "  s.onreadystatechange = s.onload = callback;\n",
       "  s.onerror = function(){console.warn(\"failed to load library \" + url);};\n",
       "  document.getElementsByTagName(\"head\")[0].appendChild(s);\n",
       "}\n",
       "\n",
       "if(typeof(LDAvis) !== \"undefined\"){\n",
       "   // already loaded: just create the visualization\n",
       "   !function(LDAvis){\n",
       "       new LDAvis(\"#\" + \"ldavis_el2025621559371488167661412142\", ldavis_el2025621559371488167661412142_data);\n",
       "   }(LDAvis);\n",
       "}else if(typeof define === \"function\" && define.amd){\n",
       "   // require.js is available: use it to load d3/LDAvis\n",
       "   require.config({paths: {d3: \"https://d3js.org/d3.v5\"}});\n",
       "   require([\"d3\"], function(d3){\n",
       "      window.d3 = d3;\n",
       "      LDAvis_load_lib(\"https://cdn.jsdelivr.net/gh/bmabey/pyLDAvis@3.4.0/pyLDAvis/js/ldavis.v3.0.0.js\", function(){\n",
       "        new LDAvis(\"#\" + \"ldavis_el2025621559371488167661412142\", ldavis_el2025621559371488167661412142_data);\n",
       "      });\n",
       "    });\n",
       "}else{\n",
       "    // require.js not available: dynamically load d3 & LDAvis\n",
       "    LDAvis_load_lib(\"https://d3js.org/d3.v5.js\", function(){\n",
       "         LDAvis_load_lib(\"https://cdn.jsdelivr.net/gh/bmabey/pyLDAvis@3.4.0/pyLDAvis/js/ldavis.v3.0.0.js\", function(){\n",
       "                 new LDAvis(\"#\" + \"ldavis_el2025621559371488167661412142\", ldavis_el2025621559371488167661412142_data);\n",
       "            })\n",
       "         });\n",
       "}\n",
       "</script>"
      ],
      "text/plain": [
       "<IPython.core.display.HTML object>"
      ]
     },
     "execution_count": 22,
     "metadata": {},
     "output_type": "execute_result"
    }
   ],
   "source": [
    "# 輸出主題模型分析結果\n",
    "import pyLDAvis.gensim\n",
    "pyLDAvis.enable_notebook()\n",
    "vis = pyLDAvis.gensim.prepare(lda_model, corpus, dictionary)\n",
    "pyLDAvis.display(vis)"
   ]
  },
  {
   "cell_type": "code",
   "execution_count": null,
   "id": "f9ef5f53",
   "metadata": {},
   "outputs": [],
   "source": []
  }
 ],
 "metadata": {
  "kernelspec": {
   "display_name": "Python 3 (ipykernel)",
   "language": "python",
   "name": "python3"
  },
  "language_info": {
   "codemirror_mode": {
    "name": "ipython",
    "version": 3
   },
   "file_extension": ".py",
   "mimetype": "text/x-python",
   "name": "python",
   "nbconvert_exporter": "python",
   "pygments_lexer": "ipython3",
   "version": "3.9.12"
  }
 },
 "nbformat": 4,
 "nbformat_minor": 5
}
