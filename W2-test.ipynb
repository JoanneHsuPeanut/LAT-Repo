{
 "cells": [
  {
   "attachments": {},
   "cell_type": "markdown",
   "metadata": {},
   "source": [
    "早安你好"
   ]
  }
 ],
 "metadata": {
  "kernelspec": {
   "display_name": "base",
   "language": "python",
   "name": "python3"
  },
  "language_info": {
   "name": "python",
   "version": "3.9.12"
  },
  "orig_nbformat": 4,
  "vscode": {
   "interpreter": {
    "hash": "e3a8c1363084b470e8fc74f1f9b0ca147700a7e5e1fcb9d57d18891a970e1157"
   }
  }
 },
 "nbformat": 4,
 "nbformat_minor": 2
}
